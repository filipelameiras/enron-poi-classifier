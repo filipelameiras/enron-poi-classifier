{
 "cells": [
  {
   "cell_type": "markdown",
   "metadata": {},
   "source": [
    "# 1. Introdução"
   ]
  },
  {
   "cell_type": "markdown",
   "metadata": {},
   "source": [
    "Este projeto tem como objetivo criar um algoritmo que identifique os funcionários da Enron que podem ter cometido fraude baseando-se no conjunto de dados público entitulado \"Enron financial and email\".\n",
    "\n",
    "Em 2000, Enron era uma das maiores empresas dos Estados Unidos. Já em 2002, ela colapsou e quebrou devido a uma fraude que envolveu grande parte da corporação. Resultando em uma investigação federal, muitos dados que são normalmente confidenciais, se tornaram públicos, incluindo dezenas de milhares de e-mails e detalhes financeiros para os executivos dos mais altos níveis da empresa.\n",
    "\n",
    "Este documento visa explicar minha linha de raciocínio e responder as questões, indagadas pela Udacity, para avaliação deste projeto. As perguntas encontram-se neste [link.](https://docs.google.com/document/d/1NDgi1PrNJP7WTbfSUuRUnz8yzs5nGVTSzpO7oeNTEWA/pub?embedded=true)"
   ]
  },
  {
   "cell_type": "markdown",
   "metadata": {},
   "source": [
    "# 2. Conjunto de dados"
   ]
  },
  {
   "cell_type": "markdown",
   "metadata": {},
   "source": [
    "Os dados foram disponibilizados em um dicionário, onde cada par chave-valor corresponde a uma pessoa. A chave do dicionário é o nome da pessoa, e o valor é outro dicionário, que contém o nome de todos os atributos e seus valores para aquela pessoa. Os atributos nos dados possuem basicamente três tipos: atributos financeiros, de email e rótulos POI (pessoa de interesse).\n",
    "\n",
    ">**atributos financeiros:** ['salary', 'deferral_payments', 'total_payments', 'loan_advances', 'bonus', 'restricted_stock_deferred', 'deferred_income', 'total_stock_value', 'expenses', 'exercised_stock_options', 'other', 'long_term_incentive', 'restricted_stock', 'director_fees'] (todos em dólares americanos (USD))\n",
    "\n",
    ">**atributos de email:** ['to_messages', 'email_address', 'from_poi_to_this_person', 'from_messages', 'from_this_person_to_poi', 'shared_receipt_with_poi'] (as unidades aqui são geralmente em número de emails; a exceção notável aqui é o atributo ‘email_address’, que é uma string)\n",
    "\n",
    ">**rótulo POI:** [‘poi’] (atributo objetivo lógico (booleano), representado como um inteiro)"
   ]
  },
  {
   "cell_type": "markdown",
   "metadata": {},
   "source": [
    "# 3. Seleção de atributos (features)"
   ]
  },
  {
   "cell_type": "markdown",
   "metadata": {},
   "source": [
    "Antes de selecionar os atributos iniciais a serem usados, deve-se primeiro realizar uma análise sobre a situação dos dados disponibilizados. O objetivo dessa análise é descobrir como os dados estão estruturados, se existem dados faltantes, problemas com os tipos de dados ou algum outro tipo de problema que inviabilize o uso de alguma feature inicialmente."
   ]
  },
  {
   "cell_type": "markdown",
   "metadata": {},
   "source": [
    ">Importando as bibliotecas necessárias para a análise"
   ]
  },
  {
   "cell_type": "code",
   "execution_count": 94,
   "metadata": {},
   "outputs": [],
   "source": [
    "import sys\n",
    "import pickle\n",
    "import pandas as pd\n",
    "import numpy as np\n",
    "import warnings\n",
    "\n",
    "warnings.filterwarnings('ignore')"
   ]
  },
  {
   "cell_type": "markdown",
   "metadata": {},
   "source": [
    ">Carregando os dados..."
   ]
  },
  {
   "cell_type": "code",
   "execution_count": 95,
   "metadata": {},
   "outputs": [],
   "source": [
    "with open(\"final_project_dataset.pkl\", \"rb\") as data_file:\n",
    "    data_dict = pickle.load(data_file)\n",
    "\n",
    "df = pd.DataFrame.from_dict(data_dict, orient='index')"
   ]
  },
  {
   "cell_type": "markdown",
   "metadata": {},
   "source": [
    ">Tamanho dos dados..."
   ]
  },
  {
   "cell_type": "code",
   "execution_count": 96,
   "metadata": {},
   "outputs": [
    {
     "name": "stdout",
     "output_type": "stream",
     "text": [
      "146 linhas, 21 colunas\n"
     ]
    }
   ],
   "source": [
    "print(\"{0} linhas, {1} colunas\".format(df.shape[0],df.shape[1]))"
   ]
  },
  {
   "cell_type": "markdown",
   "metadata": {},
   "source": [
    ">Visualizando os dados..."
   ]
  },
  {
   "cell_type": "code",
   "execution_count": 97,
   "metadata": {},
   "outputs": [
    {
     "data": {
      "text/html": [
       "<div>\n",
       "<style scoped>\n",
       "    .dataframe tbody tr th:only-of-type {\n",
       "        vertical-align: middle;\n",
       "    }\n",
       "\n",
       "    .dataframe tbody tr th {\n",
       "        vertical-align: top;\n",
       "    }\n",
       "\n",
       "    .dataframe thead th {\n",
       "        text-align: right;\n",
       "    }\n",
       "</style>\n",
       "<table border=\"1\" class=\"dataframe\">\n",
       "  <thead>\n",
       "    <tr style=\"text-align: right;\">\n",
       "      <th></th>\n",
       "      <th>salary</th>\n",
       "      <th>to_messages</th>\n",
       "      <th>deferral_payments</th>\n",
       "      <th>total_payments</th>\n",
       "      <th>loan_advances</th>\n",
       "      <th>bonus</th>\n",
       "      <th>email_address</th>\n",
       "      <th>restricted_stock_deferred</th>\n",
       "      <th>deferred_income</th>\n",
       "      <th>total_stock_value</th>\n",
       "      <th>...</th>\n",
       "      <th>from_poi_to_this_person</th>\n",
       "      <th>exercised_stock_options</th>\n",
       "      <th>from_messages</th>\n",
       "      <th>other</th>\n",
       "      <th>from_this_person_to_poi</th>\n",
       "      <th>poi</th>\n",
       "      <th>long_term_incentive</th>\n",
       "      <th>shared_receipt_with_poi</th>\n",
       "      <th>restricted_stock</th>\n",
       "      <th>director_fees</th>\n",
       "    </tr>\n",
       "  </thead>\n",
       "  <tbody>\n",
       "    <tr>\n",
       "      <th>ALLEN PHILLIP K</th>\n",
       "      <td>201955</td>\n",
       "      <td>2902</td>\n",
       "      <td>2869717</td>\n",
       "      <td>4484442</td>\n",
       "      <td>NaN</td>\n",
       "      <td>4175000</td>\n",
       "      <td>phillip.allen@enron.com</td>\n",
       "      <td>-126027</td>\n",
       "      <td>-3081055</td>\n",
       "      <td>1729541</td>\n",
       "      <td>...</td>\n",
       "      <td>47</td>\n",
       "      <td>1729541</td>\n",
       "      <td>2195</td>\n",
       "      <td>152</td>\n",
       "      <td>65</td>\n",
       "      <td>False</td>\n",
       "      <td>304805</td>\n",
       "      <td>1407</td>\n",
       "      <td>126027</td>\n",
       "      <td>NaN</td>\n",
       "    </tr>\n",
       "    <tr>\n",
       "      <th>BADUM JAMES P</th>\n",
       "      <td>NaN</td>\n",
       "      <td>NaN</td>\n",
       "      <td>178980</td>\n",
       "      <td>182466</td>\n",
       "      <td>NaN</td>\n",
       "      <td>NaN</td>\n",
       "      <td>NaN</td>\n",
       "      <td>NaN</td>\n",
       "      <td>NaN</td>\n",
       "      <td>257817</td>\n",
       "      <td>...</td>\n",
       "      <td>NaN</td>\n",
       "      <td>257817</td>\n",
       "      <td>NaN</td>\n",
       "      <td>NaN</td>\n",
       "      <td>NaN</td>\n",
       "      <td>False</td>\n",
       "      <td>NaN</td>\n",
       "      <td>NaN</td>\n",
       "      <td>NaN</td>\n",
       "      <td>NaN</td>\n",
       "    </tr>\n",
       "    <tr>\n",
       "      <th>BANNANTINE JAMES M</th>\n",
       "      <td>477</td>\n",
       "      <td>566</td>\n",
       "      <td>NaN</td>\n",
       "      <td>916197</td>\n",
       "      <td>NaN</td>\n",
       "      <td>NaN</td>\n",
       "      <td>james.bannantine@enron.com</td>\n",
       "      <td>-560222</td>\n",
       "      <td>-5104</td>\n",
       "      <td>5243487</td>\n",
       "      <td>...</td>\n",
       "      <td>39</td>\n",
       "      <td>4046157</td>\n",
       "      <td>29</td>\n",
       "      <td>864523</td>\n",
       "      <td>0</td>\n",
       "      <td>False</td>\n",
       "      <td>NaN</td>\n",
       "      <td>465</td>\n",
       "      <td>1757552</td>\n",
       "      <td>NaN</td>\n",
       "    </tr>\n",
       "    <tr>\n",
       "      <th>BAXTER JOHN C</th>\n",
       "      <td>267102</td>\n",
       "      <td>NaN</td>\n",
       "      <td>1295738</td>\n",
       "      <td>5634343</td>\n",
       "      <td>NaN</td>\n",
       "      <td>1200000</td>\n",
       "      <td>NaN</td>\n",
       "      <td>NaN</td>\n",
       "      <td>-1386055</td>\n",
       "      <td>10623258</td>\n",
       "      <td>...</td>\n",
       "      <td>NaN</td>\n",
       "      <td>6680544</td>\n",
       "      <td>NaN</td>\n",
       "      <td>2660303</td>\n",
       "      <td>NaN</td>\n",
       "      <td>False</td>\n",
       "      <td>1586055</td>\n",
       "      <td>NaN</td>\n",
       "      <td>3942714</td>\n",
       "      <td>NaN</td>\n",
       "    </tr>\n",
       "    <tr>\n",
       "      <th>BAY FRANKLIN R</th>\n",
       "      <td>239671</td>\n",
       "      <td>NaN</td>\n",
       "      <td>260455</td>\n",
       "      <td>827696</td>\n",
       "      <td>NaN</td>\n",
       "      <td>400000</td>\n",
       "      <td>frank.bay@enron.com</td>\n",
       "      <td>-82782</td>\n",
       "      <td>-201641</td>\n",
       "      <td>63014</td>\n",
       "      <td>...</td>\n",
       "      <td>NaN</td>\n",
       "      <td>NaN</td>\n",
       "      <td>NaN</td>\n",
       "      <td>69</td>\n",
       "      <td>NaN</td>\n",
       "      <td>False</td>\n",
       "      <td>NaN</td>\n",
       "      <td>NaN</td>\n",
       "      <td>145796</td>\n",
       "      <td>NaN</td>\n",
       "    </tr>\n",
       "    <tr>\n",
       "      <th>BAZELIDES PHILIP J</th>\n",
       "      <td>80818</td>\n",
       "      <td>NaN</td>\n",
       "      <td>684694</td>\n",
       "      <td>860136</td>\n",
       "      <td>NaN</td>\n",
       "      <td>NaN</td>\n",
       "      <td>NaN</td>\n",
       "      <td>NaN</td>\n",
       "      <td>NaN</td>\n",
       "      <td>1599641</td>\n",
       "      <td>...</td>\n",
       "      <td>NaN</td>\n",
       "      <td>1599641</td>\n",
       "      <td>NaN</td>\n",
       "      <td>874</td>\n",
       "      <td>NaN</td>\n",
       "      <td>False</td>\n",
       "      <td>93750</td>\n",
       "      <td>NaN</td>\n",
       "      <td>NaN</td>\n",
       "      <td>NaN</td>\n",
       "    </tr>\n",
       "    <tr>\n",
       "      <th>BECK SALLY W</th>\n",
       "      <td>231330</td>\n",
       "      <td>7315</td>\n",
       "      <td>NaN</td>\n",
       "      <td>969068</td>\n",
       "      <td>NaN</td>\n",
       "      <td>700000</td>\n",
       "      <td>sally.beck@enron.com</td>\n",
       "      <td>NaN</td>\n",
       "      <td>NaN</td>\n",
       "      <td>126027</td>\n",
       "      <td>...</td>\n",
       "      <td>144</td>\n",
       "      <td>NaN</td>\n",
       "      <td>4343</td>\n",
       "      <td>566</td>\n",
       "      <td>386</td>\n",
       "      <td>False</td>\n",
       "      <td>NaN</td>\n",
       "      <td>2639</td>\n",
       "      <td>126027</td>\n",
       "      <td>NaN</td>\n",
       "    </tr>\n",
       "    <tr>\n",
       "      <th>BELDEN TIMOTHY N</th>\n",
       "      <td>213999</td>\n",
       "      <td>7991</td>\n",
       "      <td>2144013</td>\n",
       "      <td>5501630</td>\n",
       "      <td>NaN</td>\n",
       "      <td>5249999</td>\n",
       "      <td>tim.belden@enron.com</td>\n",
       "      <td>NaN</td>\n",
       "      <td>-2334434</td>\n",
       "      <td>1110705</td>\n",
       "      <td>...</td>\n",
       "      <td>228</td>\n",
       "      <td>953136</td>\n",
       "      <td>484</td>\n",
       "      <td>210698</td>\n",
       "      <td>108</td>\n",
       "      <td>True</td>\n",
       "      <td>NaN</td>\n",
       "      <td>5521</td>\n",
       "      <td>157569</td>\n",
       "      <td>NaN</td>\n",
       "    </tr>\n",
       "    <tr>\n",
       "      <th>BELFER ROBERT</th>\n",
       "      <td>NaN</td>\n",
       "      <td>NaN</td>\n",
       "      <td>-102500</td>\n",
       "      <td>102500</td>\n",
       "      <td>NaN</td>\n",
       "      <td>NaN</td>\n",
       "      <td>NaN</td>\n",
       "      <td>44093</td>\n",
       "      <td>NaN</td>\n",
       "      <td>-44093</td>\n",
       "      <td>...</td>\n",
       "      <td>NaN</td>\n",
       "      <td>3285</td>\n",
       "      <td>NaN</td>\n",
       "      <td>NaN</td>\n",
       "      <td>NaN</td>\n",
       "      <td>False</td>\n",
       "      <td>NaN</td>\n",
       "      <td>NaN</td>\n",
       "      <td>NaN</td>\n",
       "      <td>3285</td>\n",
       "    </tr>\n",
       "    <tr>\n",
       "      <th>BERBERIAN DAVID</th>\n",
       "      <td>216582</td>\n",
       "      <td>NaN</td>\n",
       "      <td>NaN</td>\n",
       "      <td>228474</td>\n",
       "      <td>NaN</td>\n",
       "      <td>NaN</td>\n",
       "      <td>david.berberian@enron.com</td>\n",
       "      <td>NaN</td>\n",
       "      <td>NaN</td>\n",
       "      <td>2493616</td>\n",
       "      <td>...</td>\n",
       "      <td>NaN</td>\n",
       "      <td>1624396</td>\n",
       "      <td>NaN</td>\n",
       "      <td>NaN</td>\n",
       "      <td>NaN</td>\n",
       "      <td>False</td>\n",
       "      <td>NaN</td>\n",
       "      <td>NaN</td>\n",
       "      <td>869220</td>\n",
       "      <td>NaN</td>\n",
       "    </tr>\n",
       "  </tbody>\n",
       "</table>\n",
       "<p>10 rows × 21 columns</p>\n",
       "</div>"
      ],
      "text/plain": [
       "                    salary to_messages deferral_payments total_payments  \\\n",
       "ALLEN PHILLIP K     201955        2902           2869717        4484442   \n",
       "BADUM JAMES P          NaN         NaN            178980         182466   \n",
       "BANNANTINE JAMES M     477         566               NaN         916197   \n",
       "BAXTER JOHN C       267102         NaN           1295738        5634343   \n",
       "BAY FRANKLIN R      239671         NaN            260455         827696   \n",
       "BAZELIDES PHILIP J   80818         NaN            684694         860136   \n",
       "BECK SALLY W        231330        7315               NaN         969068   \n",
       "BELDEN TIMOTHY N    213999        7991           2144013        5501630   \n",
       "BELFER ROBERT          NaN         NaN           -102500         102500   \n",
       "BERBERIAN DAVID     216582         NaN               NaN         228474   \n",
       "\n",
       "                   loan_advances    bonus               email_address  \\\n",
       "ALLEN PHILLIP K              NaN  4175000     phillip.allen@enron.com   \n",
       "BADUM JAMES P                NaN      NaN                         NaN   \n",
       "BANNANTINE JAMES M           NaN      NaN  james.bannantine@enron.com   \n",
       "BAXTER JOHN C                NaN  1200000                         NaN   \n",
       "BAY FRANKLIN R               NaN   400000         frank.bay@enron.com   \n",
       "BAZELIDES PHILIP J           NaN      NaN                         NaN   \n",
       "BECK SALLY W                 NaN   700000        sally.beck@enron.com   \n",
       "BELDEN TIMOTHY N             NaN  5249999        tim.belden@enron.com   \n",
       "BELFER ROBERT                NaN      NaN                         NaN   \n",
       "BERBERIAN DAVID              NaN      NaN   david.berberian@enron.com   \n",
       "\n",
       "                   restricted_stock_deferred deferred_income  \\\n",
       "ALLEN PHILLIP K                      -126027        -3081055   \n",
       "BADUM JAMES P                            NaN             NaN   \n",
       "BANNANTINE JAMES M                   -560222           -5104   \n",
       "BAXTER JOHN C                            NaN        -1386055   \n",
       "BAY FRANKLIN R                        -82782         -201641   \n",
       "BAZELIDES PHILIP J                       NaN             NaN   \n",
       "BECK SALLY W                             NaN             NaN   \n",
       "BELDEN TIMOTHY N                         NaN        -2334434   \n",
       "BELFER ROBERT                          44093             NaN   \n",
       "BERBERIAN DAVID                          NaN             NaN   \n",
       "\n",
       "                   total_stock_value      ...      from_poi_to_this_person  \\\n",
       "ALLEN PHILLIP K              1729541      ...                           47   \n",
       "BADUM JAMES P                 257817      ...                          NaN   \n",
       "BANNANTINE JAMES M           5243487      ...                           39   \n",
       "BAXTER JOHN C               10623258      ...                          NaN   \n",
       "BAY FRANKLIN R                 63014      ...                          NaN   \n",
       "BAZELIDES PHILIP J           1599641      ...                          NaN   \n",
       "BECK SALLY W                  126027      ...                          144   \n",
       "BELDEN TIMOTHY N             1110705      ...                          228   \n",
       "BELFER ROBERT                 -44093      ...                          NaN   \n",
       "BERBERIAN DAVID              2493616      ...                          NaN   \n",
       "\n",
       "                   exercised_stock_options from_messages    other  \\\n",
       "ALLEN PHILLIP K                    1729541          2195      152   \n",
       "BADUM JAMES P                       257817           NaN      NaN   \n",
       "BANNANTINE JAMES M                 4046157            29   864523   \n",
       "BAXTER JOHN C                      6680544           NaN  2660303   \n",
       "BAY FRANKLIN R                         NaN           NaN       69   \n",
       "BAZELIDES PHILIP J                 1599641           NaN      874   \n",
       "BECK SALLY W                           NaN          4343      566   \n",
       "BELDEN TIMOTHY N                    953136           484   210698   \n",
       "BELFER ROBERT                         3285           NaN      NaN   \n",
       "BERBERIAN DAVID                    1624396           NaN      NaN   \n",
       "\n",
       "                   from_this_person_to_poi    poi  long_term_incentive  \\\n",
       "ALLEN PHILLIP K                         65  False               304805   \n",
       "BADUM JAMES P                          NaN  False                  NaN   \n",
       "BANNANTINE JAMES M                       0  False                  NaN   \n",
       "BAXTER JOHN C                          NaN  False              1586055   \n",
       "BAY FRANKLIN R                         NaN  False                  NaN   \n",
       "BAZELIDES PHILIP J                     NaN  False                93750   \n",
       "BECK SALLY W                           386  False                  NaN   \n",
       "BELDEN TIMOTHY N                       108   True                  NaN   \n",
       "BELFER ROBERT                          NaN  False                  NaN   \n",
       "BERBERIAN DAVID                        NaN  False                  NaN   \n",
       "\n",
       "                   shared_receipt_with_poi restricted_stock director_fees  \n",
       "ALLEN PHILLIP K                       1407           126027           NaN  \n",
       "BADUM JAMES P                          NaN              NaN           NaN  \n",
       "BANNANTINE JAMES M                     465          1757552           NaN  \n",
       "BAXTER JOHN C                          NaN          3942714           NaN  \n",
       "BAY FRANKLIN R                         NaN           145796           NaN  \n",
       "BAZELIDES PHILIP J                     NaN              NaN           NaN  \n",
       "BECK SALLY W                          2639           126027           NaN  \n",
       "BELDEN TIMOTHY N                      5521           157569           NaN  \n",
       "BELFER ROBERT                          NaN              NaN          3285  \n",
       "BERBERIAN DAVID                        NaN           869220           NaN  \n",
       "\n",
       "[10 rows x 21 columns]"
      ]
     },
     "execution_count": 97,
     "metadata": {},
     "output_type": "execute_result"
    }
   ],
   "source": [
    "df.head(10)"
   ]
  },
  {
   "cell_type": "markdown",
   "metadata": {},
   "source": [
    ">Vizualizando tipos de dados e dados faltantes..."
   ]
  },
  {
   "cell_type": "code",
   "execution_count": 98,
   "metadata": {},
   "outputs": [
    {
     "name": "stdout",
     "output_type": "stream",
     "text": [
      "<class 'pandas.core.frame.DataFrame'>\n",
      "Index: 146 entries, ALLEN PHILLIP K to YEAP SOON\n",
      "Data columns (total 21 columns):\n",
      "salary                       146 non-null object\n",
      "to_messages                  146 non-null object\n",
      "deferral_payments            146 non-null object\n",
      "total_payments               146 non-null object\n",
      "loan_advances                146 non-null object\n",
      "bonus                        146 non-null object\n",
      "email_address                146 non-null object\n",
      "restricted_stock_deferred    146 non-null object\n",
      "deferred_income              146 non-null object\n",
      "total_stock_value            146 non-null object\n",
      "expenses                     146 non-null object\n",
      "from_poi_to_this_person      146 non-null object\n",
      "exercised_stock_options      146 non-null object\n",
      "from_messages                146 non-null object\n",
      "other                        146 non-null object\n",
      "from_this_person_to_poi      146 non-null object\n",
      "poi                          146 non-null bool\n",
      "long_term_incentive          146 non-null object\n",
      "shared_receipt_with_poi      146 non-null object\n",
      "restricted_stock             146 non-null object\n",
      "director_fees                146 non-null object\n",
      "dtypes: bool(1), object(20)\n",
      "memory usage: 24.1+ KB\n"
     ]
    }
   ],
   "source": [
    "df.info()"
   ]
  },
  {
   "cell_type": "markdown",
   "metadata": {},
   "source": [
    "Primeiro problema encontrado: Muitos atribuitos faltantes estão com os valores 'NAN' no formato texto. Corrigir este problema pois pode influenciar na estatística. "
   ]
  },
  {
   "cell_type": "code",
   "execution_count": 99,
   "metadata": {},
   "outputs": [
    {
     "name": "stdout",
     "output_type": "stream",
     "text": [
      "<class 'pandas.core.frame.DataFrame'>\n",
      "Index: 146 entries, ALLEN PHILLIP K to YEAP SOON\n",
      "Data columns (total 21 columns):\n",
      "salary                       95 non-null float64\n",
      "to_messages                  86 non-null float64\n",
      "deferral_payments            39 non-null float64\n",
      "total_payments               125 non-null float64\n",
      "loan_advances                4 non-null float64\n",
      "bonus                        82 non-null float64\n",
      "email_address                111 non-null object\n",
      "restricted_stock_deferred    18 non-null float64\n",
      "deferred_income              49 non-null float64\n",
      "total_stock_value            126 non-null float64\n",
      "expenses                     95 non-null float64\n",
      "from_poi_to_this_person      86 non-null float64\n",
      "exercised_stock_options      102 non-null float64\n",
      "from_messages                86 non-null float64\n",
      "other                        93 non-null float64\n",
      "from_this_person_to_poi      86 non-null float64\n",
      "poi                          146 non-null bool\n",
      "long_term_incentive          66 non-null float64\n",
      "shared_receipt_with_poi      86 non-null float64\n",
      "restricted_stock             110 non-null float64\n",
      "director_fees                17 non-null float64\n",
      "dtypes: bool(1), float64(19), object(1)\n",
      "memory usage: 24.1+ KB\n"
     ]
    }
   ],
   "source": [
    "df = df.replace('NaN', np.NaN)\n",
    "df.info()"
   ]
  },
  {
   "cell_type": "markdown",
   "metadata": {},
   "source": [
    "Agora vemos que somente o atributo 'poi' está completo."
   ]
  },
  {
   "cell_type": "markdown",
   "metadata": {},
   "source": [
    ">Quantas variáveis faltante cada funcionário possui?"
   ]
  },
  {
   "cell_type": "code",
   "execution_count": 100,
   "metadata": {},
   "outputs": [
    {
     "data": {
      "text/plain": [
       "LOCKHART EUGENE E                20\n",
       "GRAMM WENDY L                    18\n",
       "WROBEL BRUCE                     18\n",
       "WHALEY DAVID A                   18\n",
       "THE TRAVEL AGENCY IN THE PARK    18\n",
       "WAKEHAM JOHN                     17\n",
       "WODRASKA JOHN                    17\n",
       "CLINE KENNETH W                  17\n",
       "GILLIS JOHN                      17\n",
       "SCRIMSHAW MATTHEW                17\n",
       "SAVAGE FRANK                     17\n",
       "MENDELSOHN JOHN                  16\n",
       "YEAP SOON                        16\n",
       "CHRISTODOULOU DIOMEDES           16\n",
       "PEREIRA PAULO V. FERRAZ          16\n",
       "BLAKE JR. NORMAN P               16\n",
       "LOWRY CHARLES P                  16\n",
       "CHAN RONNIE                      16\n",
       "MEYER JEROME J                   16\n",
       "GATHMANN WILLIAM D               16\n",
       "WINOKUR JR. HERBERT S            16\n",
       "FUGH JOHN L                      16\n",
       "URQUHART JOHN A                  16\n",
       "NOLES JAMES L                    15\n",
       "WALTERS GARETH W                 15\n",
       "BADUM JAMES P                    15\n",
       "LEMAISTRE CHARLES                15\n",
       "DUNCAN JOHN H                    15\n",
       "GRAY RODNEY                      15\n",
       "PRENTICE JAMES                   14\n",
       "                                 ..\n",
       "THORN TERENCE H                   5\n",
       "SKILLING JEFFREY K                5\n",
       "SHELBY REX                        5\n",
       "SHANKMAN JEFFREY A                5\n",
       "MURRAY JULIA H                    5\n",
       "DURAN WILLIAM D                   5\n",
       "MCCONNELL MICHAEL S               5\n",
       "MCMAHON JEFFREY                   5\n",
       "FALLON JAMES B                    5\n",
       "FITZGERALD JAY L                  5\n",
       "KOENIG MARK E                     5\n",
       "KEAN STEVEN J                     5\n",
       "GARLAND C KEVIN                   5\n",
       "GLISAN JR BEN F                   5\n",
       "LAVORATO JOHN J                   5\n",
       "RIEKER PAULA H                    4\n",
       "BELDEN TIMOTHY N                  4\n",
       "SHARP VICTORIA T                  4\n",
       "RICE KENNETH D                    4\n",
       "WASAFF GEORGE                     4\n",
       "OLSON CINDY K                     4\n",
       "HANNON KEVIN P                    4\n",
       "MULLER MARK S                     4\n",
       "BUY RICHARD B                     4\n",
       "PIPER GREGORY F                   3\n",
       "DERRICK JR. JAMES V               3\n",
       "LAY KENNETH L                     2\n",
       "HAEDICKE MARK E                   2\n",
       "FREVERT MARK A                    2\n",
       "ALLEN PHILLIP K                   2\n",
       "Length: 146, dtype: int64"
      ]
     },
     "execution_count": 100,
     "metadata": {},
     "output_type": "execute_result"
    }
   ],
   "source": [
    "df.isnull().sum(axis=1).sort_values(ascending=False)"
   ]
  },
  {
   "cell_type": "markdown",
   "metadata": {},
   "source": [
    "Vemos que a pessoa **LOCKHART EUGENE E** não possui nenhum atributo além do 'poi'. Então ele deve ser retirado da base já que não possui nenhuma informação."
   ]
  },
  {
   "cell_type": "code",
   "execution_count": 101,
   "metadata": {},
   "outputs": [],
   "source": [
    "df.drop('LOCKHART EUGENE E', inplace=True)"
   ]
  },
  {
   "cell_type": "markdown",
   "metadata": {},
   "source": [
    ">**THE TRAVEL AGENCY IN THE PARK** não parece ser uma pessoa. Quais os atributos que possui?"
   ]
  },
  {
   "cell_type": "code",
   "execution_count": 102,
   "metadata": {},
   "outputs": [
    {
     "data": {
      "text/plain": [
       "salary                          NaN\n",
       "to_messages                     NaN\n",
       "deferral_payments               NaN\n",
       "total_payments               362096\n",
       "loan_advances                   NaN\n",
       "bonus                           NaN\n",
       "email_address                   NaN\n",
       "restricted_stock_deferred       NaN\n",
       "deferred_income                 NaN\n",
       "total_stock_value               NaN\n",
       "expenses                        NaN\n",
       "from_poi_to_this_person         NaN\n",
       "exercised_stock_options         NaN\n",
       "from_messages                   NaN\n",
       "other                        362096\n",
       "from_this_person_to_poi         NaN\n",
       "poi                           False\n",
       "long_term_incentive             NaN\n",
       "shared_receipt_with_poi         NaN\n",
       "restricted_stock                NaN\n",
       "director_fees                   NaN\n",
       "Name: THE TRAVEL AGENCY IN THE PARK, dtype: object"
      ]
     },
     "execution_count": 102,
     "metadata": {},
     "output_type": "execute_result"
    }
   ],
   "source": [
    "df.loc['THE TRAVEL AGENCY IN THE PARK']"
   ]
  },
  {
   "cell_type": "markdown",
   "metadata": {},
   "source": [
    "Devemos excluir **THE TRAVEL AGENCY IN THE PARK**. Pois não se trata de uma pessoa."
   ]
  },
  {
   "cell_type": "code",
   "execution_count": 103,
   "metadata": {},
   "outputs": [],
   "source": [
    "df.drop('THE TRAVEL AGENCY IN THE PARK', inplace=True)"
   ]
  },
  {
   "cell_type": "markdown",
   "metadata": {},
   "source": [
    ">Quantos e quais funcionários são classificados como POI?"
   ]
  },
  {
   "cell_type": "code",
   "execution_count": 104,
   "metadata": {},
   "outputs": [
    {
     "data": {
      "text/plain": [
       "False    126\n",
       "True      18\n",
       "Name: poi, dtype: int64"
      ]
     },
     "execution_count": 104,
     "metadata": {},
     "output_type": "execute_result"
    }
   ],
   "source": [
    "df.poi.value_counts()"
   ]
  },
  {
   "cell_type": "code",
   "execution_count": 105,
   "metadata": {},
   "outputs": [
    {
     "data": {
      "text/html": [
       "<div>\n",
       "<style scoped>\n",
       "    .dataframe tbody tr th:only-of-type {\n",
       "        vertical-align: middle;\n",
       "    }\n",
       "\n",
       "    .dataframe tbody tr th {\n",
       "        vertical-align: top;\n",
       "    }\n",
       "\n",
       "    .dataframe thead th {\n",
       "        text-align: right;\n",
       "    }\n",
       "</style>\n",
       "<table border=\"1\" class=\"dataframe\">\n",
       "  <thead>\n",
       "    <tr style=\"text-align: right;\">\n",
       "      <th></th>\n",
       "      <th>salary</th>\n",
       "      <th>to_messages</th>\n",
       "      <th>deferral_payments</th>\n",
       "      <th>total_payments</th>\n",
       "      <th>loan_advances</th>\n",
       "      <th>bonus</th>\n",
       "      <th>email_address</th>\n",
       "      <th>restricted_stock_deferred</th>\n",
       "      <th>deferred_income</th>\n",
       "      <th>total_stock_value</th>\n",
       "      <th>...</th>\n",
       "      <th>from_poi_to_this_person</th>\n",
       "      <th>exercised_stock_options</th>\n",
       "      <th>from_messages</th>\n",
       "      <th>other</th>\n",
       "      <th>from_this_person_to_poi</th>\n",
       "      <th>poi</th>\n",
       "      <th>long_term_incentive</th>\n",
       "      <th>shared_receipt_with_poi</th>\n",
       "      <th>restricted_stock</th>\n",
       "      <th>director_fees</th>\n",
       "    </tr>\n",
       "  </thead>\n",
       "  <tbody>\n",
       "    <tr>\n",
       "      <th>BELDEN TIMOTHY N</th>\n",
       "      <td>213999.0</td>\n",
       "      <td>7991.0</td>\n",
       "      <td>2144013.0</td>\n",
       "      <td>5501630.0</td>\n",
       "      <td>NaN</td>\n",
       "      <td>5249999.0</td>\n",
       "      <td>tim.belden@enron.com</td>\n",
       "      <td>NaN</td>\n",
       "      <td>-2334434.0</td>\n",
       "      <td>1110705.0</td>\n",
       "      <td>...</td>\n",
       "      <td>228.0</td>\n",
       "      <td>953136.0</td>\n",
       "      <td>484.0</td>\n",
       "      <td>210698.0</td>\n",
       "      <td>108.0</td>\n",
       "      <td>True</td>\n",
       "      <td>NaN</td>\n",
       "      <td>5521.0</td>\n",
       "      <td>157569.0</td>\n",
       "      <td>NaN</td>\n",
       "    </tr>\n",
       "    <tr>\n",
       "      <th>BOWEN JR RAYMOND M</th>\n",
       "      <td>278601.0</td>\n",
       "      <td>1858.0</td>\n",
       "      <td>NaN</td>\n",
       "      <td>2669589.0</td>\n",
       "      <td>NaN</td>\n",
       "      <td>1350000.0</td>\n",
       "      <td>raymond.bowen@enron.com</td>\n",
       "      <td>NaN</td>\n",
       "      <td>-833.0</td>\n",
       "      <td>252055.0</td>\n",
       "      <td>...</td>\n",
       "      <td>140.0</td>\n",
       "      <td>NaN</td>\n",
       "      <td>27.0</td>\n",
       "      <td>1621.0</td>\n",
       "      <td>15.0</td>\n",
       "      <td>True</td>\n",
       "      <td>974293.0</td>\n",
       "      <td>1593.0</td>\n",
       "      <td>252055.0</td>\n",
       "      <td>NaN</td>\n",
       "    </tr>\n",
       "    <tr>\n",
       "      <th>CALGER CHRISTOPHER F</th>\n",
       "      <td>240189.0</td>\n",
       "      <td>2598.0</td>\n",
       "      <td>NaN</td>\n",
       "      <td>1639297.0</td>\n",
       "      <td>NaN</td>\n",
       "      <td>1250000.0</td>\n",
       "      <td>christopher.calger@enron.com</td>\n",
       "      <td>NaN</td>\n",
       "      <td>-262500.0</td>\n",
       "      <td>126027.0</td>\n",
       "      <td>...</td>\n",
       "      <td>199.0</td>\n",
       "      <td>NaN</td>\n",
       "      <td>144.0</td>\n",
       "      <td>486.0</td>\n",
       "      <td>25.0</td>\n",
       "      <td>True</td>\n",
       "      <td>375304.0</td>\n",
       "      <td>2188.0</td>\n",
       "      <td>126027.0</td>\n",
       "      <td>NaN</td>\n",
       "    </tr>\n",
       "    <tr>\n",
       "      <th>CAUSEY RICHARD A</th>\n",
       "      <td>415189.0</td>\n",
       "      <td>1892.0</td>\n",
       "      <td>NaN</td>\n",
       "      <td>1868758.0</td>\n",
       "      <td>NaN</td>\n",
       "      <td>1000000.0</td>\n",
       "      <td>richard.causey@enron.com</td>\n",
       "      <td>NaN</td>\n",
       "      <td>-235000.0</td>\n",
       "      <td>2502063.0</td>\n",
       "      <td>...</td>\n",
       "      <td>58.0</td>\n",
       "      <td>NaN</td>\n",
       "      <td>49.0</td>\n",
       "      <td>307895.0</td>\n",
       "      <td>12.0</td>\n",
       "      <td>True</td>\n",
       "      <td>350000.0</td>\n",
       "      <td>1585.0</td>\n",
       "      <td>2502063.0</td>\n",
       "      <td>NaN</td>\n",
       "    </tr>\n",
       "    <tr>\n",
       "      <th>COLWELL WESLEY</th>\n",
       "      <td>288542.0</td>\n",
       "      <td>1758.0</td>\n",
       "      <td>27610.0</td>\n",
       "      <td>1490344.0</td>\n",
       "      <td>NaN</td>\n",
       "      <td>1200000.0</td>\n",
       "      <td>wes.colwell@enron.com</td>\n",
       "      <td>NaN</td>\n",
       "      <td>-144062.0</td>\n",
       "      <td>698242.0</td>\n",
       "      <td>...</td>\n",
       "      <td>240.0</td>\n",
       "      <td>NaN</td>\n",
       "      <td>40.0</td>\n",
       "      <td>101740.0</td>\n",
       "      <td>11.0</td>\n",
       "      <td>True</td>\n",
       "      <td>NaN</td>\n",
       "      <td>1132.0</td>\n",
       "      <td>698242.0</td>\n",
       "      <td>NaN</td>\n",
       "    </tr>\n",
       "    <tr>\n",
       "      <th>DELAINEY DAVID W</th>\n",
       "      <td>365163.0</td>\n",
       "      <td>3093.0</td>\n",
       "      <td>NaN</td>\n",
       "      <td>4747979.0</td>\n",
       "      <td>NaN</td>\n",
       "      <td>3000000.0</td>\n",
       "      <td>david.delainey@enron.com</td>\n",
       "      <td>NaN</td>\n",
       "      <td>NaN</td>\n",
       "      <td>3614261.0</td>\n",
       "      <td>...</td>\n",
       "      <td>66.0</td>\n",
       "      <td>2291113.0</td>\n",
       "      <td>3069.0</td>\n",
       "      <td>1661.0</td>\n",
       "      <td>609.0</td>\n",
       "      <td>True</td>\n",
       "      <td>1294981.0</td>\n",
       "      <td>2097.0</td>\n",
       "      <td>1323148.0</td>\n",
       "      <td>NaN</td>\n",
       "    </tr>\n",
       "    <tr>\n",
       "      <th>FASTOW ANDREW S</th>\n",
       "      <td>440698.0</td>\n",
       "      <td>NaN</td>\n",
       "      <td>NaN</td>\n",
       "      <td>2424083.0</td>\n",
       "      <td>NaN</td>\n",
       "      <td>1300000.0</td>\n",
       "      <td>andrew.fastow@enron.com</td>\n",
       "      <td>NaN</td>\n",
       "      <td>-1386055.0</td>\n",
       "      <td>1794412.0</td>\n",
       "      <td>...</td>\n",
       "      <td>NaN</td>\n",
       "      <td>NaN</td>\n",
       "      <td>NaN</td>\n",
       "      <td>277464.0</td>\n",
       "      <td>NaN</td>\n",
       "      <td>True</td>\n",
       "      <td>1736055.0</td>\n",
       "      <td>NaN</td>\n",
       "      <td>1794412.0</td>\n",
       "      <td>NaN</td>\n",
       "    </tr>\n",
       "    <tr>\n",
       "      <th>GLISAN JR BEN F</th>\n",
       "      <td>274975.0</td>\n",
       "      <td>873.0</td>\n",
       "      <td>NaN</td>\n",
       "      <td>1272284.0</td>\n",
       "      <td>NaN</td>\n",
       "      <td>600000.0</td>\n",
       "      <td>ben.glisan@enron.com</td>\n",
       "      <td>NaN</td>\n",
       "      <td>NaN</td>\n",
       "      <td>778546.0</td>\n",
       "      <td>...</td>\n",
       "      <td>52.0</td>\n",
       "      <td>384728.0</td>\n",
       "      <td>16.0</td>\n",
       "      <td>200308.0</td>\n",
       "      <td>6.0</td>\n",
       "      <td>True</td>\n",
       "      <td>71023.0</td>\n",
       "      <td>874.0</td>\n",
       "      <td>393818.0</td>\n",
       "      <td>NaN</td>\n",
       "    </tr>\n",
       "    <tr>\n",
       "      <th>HANNON KEVIN P</th>\n",
       "      <td>243293.0</td>\n",
       "      <td>1045.0</td>\n",
       "      <td>NaN</td>\n",
       "      <td>288682.0</td>\n",
       "      <td>NaN</td>\n",
       "      <td>1500000.0</td>\n",
       "      <td>kevin.hannon@enron.com</td>\n",
       "      <td>NaN</td>\n",
       "      <td>-3117011.0</td>\n",
       "      <td>6391065.0</td>\n",
       "      <td>...</td>\n",
       "      <td>32.0</td>\n",
       "      <td>5538001.0</td>\n",
       "      <td>32.0</td>\n",
       "      <td>11350.0</td>\n",
       "      <td>21.0</td>\n",
       "      <td>True</td>\n",
       "      <td>1617011.0</td>\n",
       "      <td>1035.0</td>\n",
       "      <td>853064.0</td>\n",
       "      <td>NaN</td>\n",
       "    </tr>\n",
       "    <tr>\n",
       "      <th>HIRKO JOSEPH</th>\n",
       "      <td>NaN</td>\n",
       "      <td>NaN</td>\n",
       "      <td>10259.0</td>\n",
       "      <td>91093.0</td>\n",
       "      <td>NaN</td>\n",
       "      <td>NaN</td>\n",
       "      <td>joe.hirko@enron.com</td>\n",
       "      <td>NaN</td>\n",
       "      <td>NaN</td>\n",
       "      <td>30766064.0</td>\n",
       "      <td>...</td>\n",
       "      <td>NaN</td>\n",
       "      <td>30766064.0</td>\n",
       "      <td>NaN</td>\n",
       "      <td>2856.0</td>\n",
       "      <td>NaN</td>\n",
       "      <td>True</td>\n",
       "      <td>NaN</td>\n",
       "      <td>NaN</td>\n",
       "      <td>NaN</td>\n",
       "      <td>NaN</td>\n",
       "    </tr>\n",
       "    <tr>\n",
       "      <th>KOENIG MARK E</th>\n",
       "      <td>309946.0</td>\n",
       "      <td>2374.0</td>\n",
       "      <td>NaN</td>\n",
       "      <td>1587421.0</td>\n",
       "      <td>NaN</td>\n",
       "      <td>700000.0</td>\n",
       "      <td>mark.koenig@enron.com</td>\n",
       "      <td>NaN</td>\n",
       "      <td>NaN</td>\n",
       "      <td>1920055.0</td>\n",
       "      <td>...</td>\n",
       "      <td>53.0</td>\n",
       "      <td>671737.0</td>\n",
       "      <td>61.0</td>\n",
       "      <td>150458.0</td>\n",
       "      <td>15.0</td>\n",
       "      <td>True</td>\n",
       "      <td>300000.0</td>\n",
       "      <td>2271.0</td>\n",
       "      <td>1248318.0</td>\n",
       "      <td>NaN</td>\n",
       "    </tr>\n",
       "    <tr>\n",
       "      <th>KOPPER MICHAEL J</th>\n",
       "      <td>224305.0</td>\n",
       "      <td>NaN</td>\n",
       "      <td>NaN</td>\n",
       "      <td>2652612.0</td>\n",
       "      <td>NaN</td>\n",
       "      <td>800000.0</td>\n",
       "      <td>michael.kopper@enron.com</td>\n",
       "      <td>NaN</td>\n",
       "      <td>NaN</td>\n",
       "      <td>985032.0</td>\n",
       "      <td>...</td>\n",
       "      <td>NaN</td>\n",
       "      <td>NaN</td>\n",
       "      <td>NaN</td>\n",
       "      <td>907502.0</td>\n",
       "      <td>NaN</td>\n",
       "      <td>True</td>\n",
       "      <td>602671.0</td>\n",
       "      <td>NaN</td>\n",
       "      <td>985032.0</td>\n",
       "      <td>NaN</td>\n",
       "    </tr>\n",
       "    <tr>\n",
       "      <th>LAY KENNETH L</th>\n",
       "      <td>1072321.0</td>\n",
       "      <td>4273.0</td>\n",
       "      <td>202911.0</td>\n",
       "      <td>103559793.0</td>\n",
       "      <td>81525000.0</td>\n",
       "      <td>7000000.0</td>\n",
       "      <td>kenneth.lay@enron.com</td>\n",
       "      <td>NaN</td>\n",
       "      <td>-300000.0</td>\n",
       "      <td>49110078.0</td>\n",
       "      <td>...</td>\n",
       "      <td>123.0</td>\n",
       "      <td>34348384.0</td>\n",
       "      <td>36.0</td>\n",
       "      <td>10359729.0</td>\n",
       "      <td>16.0</td>\n",
       "      <td>True</td>\n",
       "      <td>3600000.0</td>\n",
       "      <td>2411.0</td>\n",
       "      <td>14761694.0</td>\n",
       "      <td>NaN</td>\n",
       "    </tr>\n",
       "    <tr>\n",
       "      <th>RICE KENNETH D</th>\n",
       "      <td>420636.0</td>\n",
       "      <td>905.0</td>\n",
       "      <td>NaN</td>\n",
       "      <td>505050.0</td>\n",
       "      <td>NaN</td>\n",
       "      <td>1750000.0</td>\n",
       "      <td>ken.rice@enron.com</td>\n",
       "      <td>NaN</td>\n",
       "      <td>-3504386.0</td>\n",
       "      <td>22542539.0</td>\n",
       "      <td>...</td>\n",
       "      <td>42.0</td>\n",
       "      <td>19794175.0</td>\n",
       "      <td>18.0</td>\n",
       "      <td>174839.0</td>\n",
       "      <td>4.0</td>\n",
       "      <td>True</td>\n",
       "      <td>1617011.0</td>\n",
       "      <td>864.0</td>\n",
       "      <td>2748364.0</td>\n",
       "      <td>NaN</td>\n",
       "    </tr>\n",
       "    <tr>\n",
       "      <th>RIEKER PAULA H</th>\n",
       "      <td>249201.0</td>\n",
       "      <td>1328.0</td>\n",
       "      <td>214678.0</td>\n",
       "      <td>1099100.0</td>\n",
       "      <td>NaN</td>\n",
       "      <td>700000.0</td>\n",
       "      <td>paula.rieker@enron.com</td>\n",
       "      <td>NaN</td>\n",
       "      <td>-100000.0</td>\n",
       "      <td>1918887.0</td>\n",
       "      <td>...</td>\n",
       "      <td>35.0</td>\n",
       "      <td>1635238.0</td>\n",
       "      <td>82.0</td>\n",
       "      <td>1950.0</td>\n",
       "      <td>48.0</td>\n",
       "      <td>True</td>\n",
       "      <td>NaN</td>\n",
       "      <td>1258.0</td>\n",
       "      <td>283649.0</td>\n",
       "      <td>NaN</td>\n",
       "    </tr>\n",
       "    <tr>\n",
       "      <th>SHELBY REX</th>\n",
       "      <td>211844.0</td>\n",
       "      <td>225.0</td>\n",
       "      <td>NaN</td>\n",
       "      <td>2003885.0</td>\n",
       "      <td>NaN</td>\n",
       "      <td>200000.0</td>\n",
       "      <td>rex.shelby@enron.com</td>\n",
       "      <td>NaN</td>\n",
       "      <td>-4167.0</td>\n",
       "      <td>2493616.0</td>\n",
       "      <td>...</td>\n",
       "      <td>13.0</td>\n",
       "      <td>1624396.0</td>\n",
       "      <td>39.0</td>\n",
       "      <td>1573324.0</td>\n",
       "      <td>14.0</td>\n",
       "      <td>True</td>\n",
       "      <td>NaN</td>\n",
       "      <td>91.0</td>\n",
       "      <td>869220.0</td>\n",
       "      <td>NaN</td>\n",
       "    </tr>\n",
       "    <tr>\n",
       "      <th>SKILLING JEFFREY K</th>\n",
       "      <td>1111258.0</td>\n",
       "      <td>3627.0</td>\n",
       "      <td>NaN</td>\n",
       "      <td>8682716.0</td>\n",
       "      <td>NaN</td>\n",
       "      <td>5600000.0</td>\n",
       "      <td>jeff.skilling@enron.com</td>\n",
       "      <td>NaN</td>\n",
       "      <td>NaN</td>\n",
       "      <td>26093672.0</td>\n",
       "      <td>...</td>\n",
       "      <td>88.0</td>\n",
       "      <td>19250000.0</td>\n",
       "      <td>108.0</td>\n",
       "      <td>22122.0</td>\n",
       "      <td>30.0</td>\n",
       "      <td>True</td>\n",
       "      <td>1920000.0</td>\n",
       "      <td>2042.0</td>\n",
       "      <td>6843672.0</td>\n",
       "      <td>NaN</td>\n",
       "    </tr>\n",
       "    <tr>\n",
       "      <th>YEAGER F SCOTT</th>\n",
       "      <td>158403.0</td>\n",
       "      <td>NaN</td>\n",
       "      <td>NaN</td>\n",
       "      <td>360300.0</td>\n",
       "      <td>NaN</td>\n",
       "      <td>NaN</td>\n",
       "      <td>scott.yeager@enron.com</td>\n",
       "      <td>NaN</td>\n",
       "      <td>NaN</td>\n",
       "      <td>11884758.0</td>\n",
       "      <td>...</td>\n",
       "      <td>NaN</td>\n",
       "      <td>8308552.0</td>\n",
       "      <td>NaN</td>\n",
       "      <td>147950.0</td>\n",
       "      <td>NaN</td>\n",
       "      <td>True</td>\n",
       "      <td>NaN</td>\n",
       "      <td>NaN</td>\n",
       "      <td>3576206.0</td>\n",
       "      <td>NaN</td>\n",
       "    </tr>\n",
       "  </tbody>\n",
       "</table>\n",
       "<p>18 rows × 21 columns</p>\n",
       "</div>"
      ],
      "text/plain": [
       "                         salary  to_messages  deferral_payments  \\\n",
       "BELDEN TIMOTHY N       213999.0       7991.0          2144013.0   \n",
       "BOWEN JR RAYMOND M     278601.0       1858.0                NaN   \n",
       "CALGER CHRISTOPHER F   240189.0       2598.0                NaN   \n",
       "CAUSEY RICHARD A       415189.0       1892.0                NaN   \n",
       "COLWELL WESLEY         288542.0       1758.0            27610.0   \n",
       "DELAINEY DAVID W       365163.0       3093.0                NaN   \n",
       "FASTOW ANDREW S        440698.0          NaN                NaN   \n",
       "GLISAN JR BEN F        274975.0        873.0                NaN   \n",
       "HANNON KEVIN P         243293.0       1045.0                NaN   \n",
       "HIRKO JOSEPH                NaN          NaN            10259.0   \n",
       "KOENIG MARK E          309946.0       2374.0                NaN   \n",
       "KOPPER MICHAEL J       224305.0          NaN                NaN   \n",
       "LAY KENNETH L         1072321.0       4273.0           202911.0   \n",
       "RICE KENNETH D         420636.0        905.0                NaN   \n",
       "RIEKER PAULA H         249201.0       1328.0           214678.0   \n",
       "SHELBY REX             211844.0        225.0                NaN   \n",
       "SKILLING JEFFREY K    1111258.0       3627.0                NaN   \n",
       "YEAGER F SCOTT         158403.0          NaN                NaN   \n",
       "\n",
       "                      total_payments  loan_advances      bonus  \\\n",
       "BELDEN TIMOTHY N           5501630.0            NaN  5249999.0   \n",
       "BOWEN JR RAYMOND M         2669589.0            NaN  1350000.0   \n",
       "CALGER CHRISTOPHER F       1639297.0            NaN  1250000.0   \n",
       "CAUSEY RICHARD A           1868758.0            NaN  1000000.0   \n",
       "COLWELL WESLEY             1490344.0            NaN  1200000.0   \n",
       "DELAINEY DAVID W           4747979.0            NaN  3000000.0   \n",
       "FASTOW ANDREW S            2424083.0            NaN  1300000.0   \n",
       "GLISAN JR BEN F            1272284.0            NaN   600000.0   \n",
       "HANNON KEVIN P              288682.0            NaN  1500000.0   \n",
       "HIRKO JOSEPH                 91093.0            NaN        NaN   \n",
       "KOENIG MARK E              1587421.0            NaN   700000.0   \n",
       "KOPPER MICHAEL J           2652612.0            NaN   800000.0   \n",
       "LAY KENNETH L            103559793.0     81525000.0  7000000.0   \n",
       "RICE KENNETH D              505050.0            NaN  1750000.0   \n",
       "RIEKER PAULA H             1099100.0            NaN   700000.0   \n",
       "SHELBY REX                 2003885.0            NaN   200000.0   \n",
       "SKILLING JEFFREY K         8682716.0            NaN  5600000.0   \n",
       "YEAGER F SCOTT              360300.0            NaN        NaN   \n",
       "\n",
       "                                     email_address  restricted_stock_deferred  \\\n",
       "BELDEN TIMOTHY N              tim.belden@enron.com                        NaN   \n",
       "BOWEN JR RAYMOND M         raymond.bowen@enron.com                        NaN   \n",
       "CALGER CHRISTOPHER F  christopher.calger@enron.com                        NaN   \n",
       "CAUSEY RICHARD A          richard.causey@enron.com                        NaN   \n",
       "COLWELL WESLEY               wes.colwell@enron.com                        NaN   \n",
       "DELAINEY DAVID W          david.delainey@enron.com                        NaN   \n",
       "FASTOW ANDREW S            andrew.fastow@enron.com                        NaN   \n",
       "GLISAN JR BEN F               ben.glisan@enron.com                        NaN   \n",
       "HANNON KEVIN P              kevin.hannon@enron.com                        NaN   \n",
       "HIRKO JOSEPH                   joe.hirko@enron.com                        NaN   \n",
       "KOENIG MARK E                mark.koenig@enron.com                        NaN   \n",
       "KOPPER MICHAEL J          michael.kopper@enron.com                        NaN   \n",
       "LAY KENNETH L                kenneth.lay@enron.com                        NaN   \n",
       "RICE KENNETH D                  ken.rice@enron.com                        NaN   \n",
       "RIEKER PAULA H              paula.rieker@enron.com                        NaN   \n",
       "SHELBY REX                    rex.shelby@enron.com                        NaN   \n",
       "SKILLING JEFFREY K         jeff.skilling@enron.com                        NaN   \n",
       "YEAGER F SCOTT              scott.yeager@enron.com                        NaN   \n",
       "\n",
       "                      deferred_income  total_stock_value      ...        \\\n",
       "BELDEN TIMOTHY N           -2334434.0          1110705.0      ...         \n",
       "BOWEN JR RAYMOND M             -833.0           252055.0      ...         \n",
       "CALGER CHRISTOPHER F        -262500.0           126027.0      ...         \n",
       "CAUSEY RICHARD A            -235000.0          2502063.0      ...         \n",
       "COLWELL WESLEY              -144062.0           698242.0      ...         \n",
       "DELAINEY DAVID W                  NaN          3614261.0      ...         \n",
       "FASTOW ANDREW S            -1386055.0          1794412.0      ...         \n",
       "GLISAN JR BEN F                   NaN           778546.0      ...         \n",
       "HANNON KEVIN P             -3117011.0          6391065.0      ...         \n",
       "HIRKO JOSEPH                      NaN         30766064.0      ...         \n",
       "KOENIG MARK E                     NaN          1920055.0      ...         \n",
       "KOPPER MICHAEL J                  NaN           985032.0      ...         \n",
       "LAY KENNETH L               -300000.0         49110078.0      ...         \n",
       "RICE KENNETH D             -3504386.0         22542539.0      ...         \n",
       "RIEKER PAULA H              -100000.0          1918887.0      ...         \n",
       "SHELBY REX                    -4167.0          2493616.0      ...         \n",
       "SKILLING JEFFREY K                NaN         26093672.0      ...         \n",
       "YEAGER F SCOTT                    NaN         11884758.0      ...         \n",
       "\n",
       "                      from_poi_to_this_person  exercised_stock_options  \\\n",
       "BELDEN TIMOTHY N                        228.0                 953136.0   \n",
       "BOWEN JR RAYMOND M                      140.0                      NaN   \n",
       "CALGER CHRISTOPHER F                    199.0                      NaN   \n",
       "CAUSEY RICHARD A                         58.0                      NaN   \n",
       "COLWELL WESLEY                          240.0                      NaN   \n",
       "DELAINEY DAVID W                         66.0                2291113.0   \n",
       "FASTOW ANDREW S                           NaN                      NaN   \n",
       "GLISAN JR BEN F                          52.0                 384728.0   \n",
       "HANNON KEVIN P                           32.0                5538001.0   \n",
       "HIRKO JOSEPH                              NaN               30766064.0   \n",
       "KOENIG MARK E                            53.0                 671737.0   \n",
       "KOPPER MICHAEL J                          NaN                      NaN   \n",
       "LAY KENNETH L                           123.0               34348384.0   \n",
       "RICE KENNETH D                           42.0               19794175.0   \n",
       "RIEKER PAULA H                           35.0                1635238.0   \n",
       "SHELBY REX                               13.0                1624396.0   \n",
       "SKILLING JEFFREY K                       88.0               19250000.0   \n",
       "YEAGER F SCOTT                            NaN                8308552.0   \n",
       "\n",
       "                      from_messages       other  from_this_person_to_poi  \\\n",
       "BELDEN TIMOTHY N              484.0    210698.0                    108.0   \n",
       "BOWEN JR RAYMOND M             27.0      1621.0                     15.0   \n",
       "CALGER CHRISTOPHER F          144.0       486.0                     25.0   \n",
       "CAUSEY RICHARD A               49.0    307895.0                     12.0   \n",
       "COLWELL WESLEY                 40.0    101740.0                     11.0   \n",
       "DELAINEY DAVID W             3069.0      1661.0                    609.0   \n",
       "FASTOW ANDREW S                 NaN    277464.0                      NaN   \n",
       "GLISAN JR BEN F                16.0    200308.0                      6.0   \n",
       "HANNON KEVIN P                 32.0     11350.0                     21.0   \n",
       "HIRKO JOSEPH                    NaN      2856.0                      NaN   \n",
       "KOENIG MARK E                  61.0    150458.0                     15.0   \n",
       "KOPPER MICHAEL J                NaN    907502.0                      NaN   \n",
       "LAY KENNETH L                  36.0  10359729.0                     16.0   \n",
       "RICE KENNETH D                 18.0    174839.0                      4.0   \n",
       "RIEKER PAULA H                 82.0      1950.0                     48.0   \n",
       "SHELBY REX                     39.0   1573324.0                     14.0   \n",
       "SKILLING JEFFREY K            108.0     22122.0                     30.0   \n",
       "YEAGER F SCOTT                  NaN    147950.0                      NaN   \n",
       "\n",
       "                       poi  long_term_incentive  shared_receipt_with_poi  \\\n",
       "BELDEN TIMOTHY N      True                  NaN                   5521.0   \n",
       "BOWEN JR RAYMOND M    True             974293.0                   1593.0   \n",
       "CALGER CHRISTOPHER F  True             375304.0                   2188.0   \n",
       "CAUSEY RICHARD A      True             350000.0                   1585.0   \n",
       "COLWELL WESLEY        True                  NaN                   1132.0   \n",
       "DELAINEY DAVID W      True            1294981.0                   2097.0   \n",
       "FASTOW ANDREW S       True            1736055.0                      NaN   \n",
       "GLISAN JR BEN F       True              71023.0                    874.0   \n",
       "HANNON KEVIN P        True            1617011.0                   1035.0   \n",
       "HIRKO JOSEPH          True                  NaN                      NaN   \n",
       "KOENIG MARK E         True             300000.0                   2271.0   \n",
       "KOPPER MICHAEL J      True             602671.0                      NaN   \n",
       "LAY KENNETH L         True            3600000.0                   2411.0   \n",
       "RICE KENNETH D        True            1617011.0                    864.0   \n",
       "RIEKER PAULA H        True                  NaN                   1258.0   \n",
       "SHELBY REX            True                  NaN                     91.0   \n",
       "SKILLING JEFFREY K    True            1920000.0                   2042.0   \n",
       "YEAGER F SCOTT        True                  NaN                      NaN   \n",
       "\n",
       "                      restricted_stock  director_fees  \n",
       "BELDEN TIMOTHY N              157569.0            NaN  \n",
       "BOWEN JR RAYMOND M            252055.0            NaN  \n",
       "CALGER CHRISTOPHER F          126027.0            NaN  \n",
       "CAUSEY RICHARD A             2502063.0            NaN  \n",
       "COLWELL WESLEY                698242.0            NaN  \n",
       "DELAINEY DAVID W             1323148.0            NaN  \n",
       "FASTOW ANDREW S              1794412.0            NaN  \n",
       "GLISAN JR BEN F               393818.0            NaN  \n",
       "HANNON KEVIN P                853064.0            NaN  \n",
       "HIRKO JOSEPH                       NaN            NaN  \n",
       "KOENIG MARK E                1248318.0            NaN  \n",
       "KOPPER MICHAEL J              985032.0            NaN  \n",
       "LAY KENNETH L               14761694.0            NaN  \n",
       "RICE KENNETH D               2748364.0            NaN  \n",
       "RIEKER PAULA H                283649.0            NaN  \n",
       "SHELBY REX                    869220.0            NaN  \n",
       "SKILLING JEFFREY K           6843672.0            NaN  \n",
       "YEAGER F SCOTT               3576206.0            NaN  \n",
       "\n",
       "[18 rows x 21 columns]"
      ]
     },
     "execution_count": 105,
     "metadata": {},
     "output_type": "execute_result"
    }
   ],
   "source": [
    "df.query(\"poi==True\")"
   ]
  },
  {
   "cell_type": "markdown",
   "metadata": {},
   "source": [
    ">Dos funcionários, quem mais recebeu dinheiro?"
   ]
  },
  {
   "cell_type": "code",
   "execution_count": 106,
   "metadata": {},
   "outputs": [
    {
     "data": {
      "text/html": [
       "<div>\n",
       "<style scoped>\n",
       "    .dataframe tbody tr th:only-of-type {\n",
       "        vertical-align: middle;\n",
       "    }\n",
       "\n",
       "    .dataframe tbody tr th {\n",
       "        vertical-align: top;\n",
       "    }\n",
       "\n",
       "    .dataframe thead th {\n",
       "        text-align: right;\n",
       "    }\n",
       "</style>\n",
       "<table border=\"1\" class=\"dataframe\">\n",
       "  <thead>\n",
       "    <tr style=\"text-align: right;\">\n",
       "      <th></th>\n",
       "      <th>salary</th>\n",
       "      <th>to_messages</th>\n",
       "      <th>deferral_payments</th>\n",
       "      <th>total_payments</th>\n",
       "      <th>loan_advances</th>\n",
       "      <th>bonus</th>\n",
       "      <th>email_address</th>\n",
       "      <th>restricted_stock_deferred</th>\n",
       "      <th>deferred_income</th>\n",
       "      <th>total_stock_value</th>\n",
       "      <th>...</th>\n",
       "      <th>from_poi_to_this_person</th>\n",
       "      <th>exercised_stock_options</th>\n",
       "      <th>from_messages</th>\n",
       "      <th>other</th>\n",
       "      <th>from_this_person_to_poi</th>\n",
       "      <th>poi</th>\n",
       "      <th>long_term_incentive</th>\n",
       "      <th>shared_receipt_with_poi</th>\n",
       "      <th>restricted_stock</th>\n",
       "      <th>director_fees</th>\n",
       "    </tr>\n",
       "  </thead>\n",
       "  <tbody>\n",
       "    <tr>\n",
       "      <th>TOTAL</th>\n",
       "      <td>26704229.0</td>\n",
       "      <td>NaN</td>\n",
       "      <td>32083396.0</td>\n",
       "      <td>309886585.0</td>\n",
       "      <td>83925000.0</td>\n",
       "      <td>97343619.0</td>\n",
       "      <td>NaN</td>\n",
       "      <td>-7576788.0</td>\n",
       "      <td>-27992891.0</td>\n",
       "      <td>434509511.0</td>\n",
       "      <td>...</td>\n",
       "      <td>NaN</td>\n",
       "      <td>311764000.0</td>\n",
       "      <td>NaN</td>\n",
       "      <td>42667589.0</td>\n",
       "      <td>NaN</td>\n",
       "      <td>False</td>\n",
       "      <td>48521928.0</td>\n",
       "      <td>NaN</td>\n",
       "      <td>130322299.0</td>\n",
       "      <td>1398517.0</td>\n",
       "    </tr>\n",
       "    <tr>\n",
       "      <th>LAY KENNETH L</th>\n",
       "      <td>1072321.0</td>\n",
       "      <td>4273.0</td>\n",
       "      <td>202911.0</td>\n",
       "      <td>103559793.0</td>\n",
       "      <td>81525000.0</td>\n",
       "      <td>7000000.0</td>\n",
       "      <td>kenneth.lay@enron.com</td>\n",
       "      <td>NaN</td>\n",
       "      <td>-300000.0</td>\n",
       "      <td>49110078.0</td>\n",
       "      <td>...</td>\n",
       "      <td>123.0</td>\n",
       "      <td>34348384.0</td>\n",
       "      <td>36.0</td>\n",
       "      <td>10359729.0</td>\n",
       "      <td>16.0</td>\n",
       "      <td>True</td>\n",
       "      <td>3600000.0</td>\n",
       "      <td>2411.0</td>\n",
       "      <td>14761694.0</td>\n",
       "      <td>NaN</td>\n",
       "    </tr>\n",
       "    <tr>\n",
       "      <th>FREVERT MARK A</th>\n",
       "      <td>1060932.0</td>\n",
       "      <td>3275.0</td>\n",
       "      <td>6426990.0</td>\n",
       "      <td>17252530.0</td>\n",
       "      <td>2000000.0</td>\n",
       "      <td>2000000.0</td>\n",
       "      <td>mark.frevert@enron.com</td>\n",
       "      <td>NaN</td>\n",
       "      <td>-3367011.0</td>\n",
       "      <td>14622185.0</td>\n",
       "      <td>...</td>\n",
       "      <td>242.0</td>\n",
       "      <td>10433518.0</td>\n",
       "      <td>21.0</td>\n",
       "      <td>7427621.0</td>\n",
       "      <td>6.0</td>\n",
       "      <td>False</td>\n",
       "      <td>1617011.0</td>\n",
       "      <td>2979.0</td>\n",
       "      <td>4188667.0</td>\n",
       "      <td>NaN</td>\n",
       "    </tr>\n",
       "    <tr>\n",
       "      <th>BHATNAGAR SANJAY</th>\n",
       "      <td>NaN</td>\n",
       "      <td>523.0</td>\n",
       "      <td>NaN</td>\n",
       "      <td>15456290.0</td>\n",
       "      <td>NaN</td>\n",
       "      <td>NaN</td>\n",
       "      <td>sanjay.bhatnagar@enron.com</td>\n",
       "      <td>15456290.0</td>\n",
       "      <td>NaN</td>\n",
       "      <td>NaN</td>\n",
       "      <td>...</td>\n",
       "      <td>0.0</td>\n",
       "      <td>2604490.0</td>\n",
       "      <td>29.0</td>\n",
       "      <td>137864.0</td>\n",
       "      <td>1.0</td>\n",
       "      <td>False</td>\n",
       "      <td>NaN</td>\n",
       "      <td>463.0</td>\n",
       "      <td>-2604490.0</td>\n",
       "      <td>137864.0</td>\n",
       "    </tr>\n",
       "    <tr>\n",
       "      <th>LAVORATO JOHN J</th>\n",
       "      <td>339288.0</td>\n",
       "      <td>7259.0</td>\n",
       "      <td>NaN</td>\n",
       "      <td>10425757.0</td>\n",
       "      <td>NaN</td>\n",
       "      <td>8000000.0</td>\n",
       "      <td>john.lavorato@enron.com</td>\n",
       "      <td>NaN</td>\n",
       "      <td>NaN</td>\n",
       "      <td>5167144.0</td>\n",
       "      <td>...</td>\n",
       "      <td>528.0</td>\n",
       "      <td>4158995.0</td>\n",
       "      <td>2585.0</td>\n",
       "      <td>1552.0</td>\n",
       "      <td>411.0</td>\n",
       "      <td>False</td>\n",
       "      <td>2035380.0</td>\n",
       "      <td>3962.0</td>\n",
       "      <td>1008149.0</td>\n",
       "      <td>NaN</td>\n",
       "    </tr>\n",
       "    <tr>\n",
       "      <th>SKILLING JEFFREY K</th>\n",
       "      <td>1111258.0</td>\n",
       "      <td>3627.0</td>\n",
       "      <td>NaN</td>\n",
       "      <td>8682716.0</td>\n",
       "      <td>NaN</td>\n",
       "      <td>5600000.0</td>\n",
       "      <td>jeff.skilling@enron.com</td>\n",
       "      <td>NaN</td>\n",
       "      <td>NaN</td>\n",
       "      <td>26093672.0</td>\n",
       "      <td>...</td>\n",
       "      <td>88.0</td>\n",
       "      <td>19250000.0</td>\n",
       "      <td>108.0</td>\n",
       "      <td>22122.0</td>\n",
       "      <td>30.0</td>\n",
       "      <td>True</td>\n",
       "      <td>1920000.0</td>\n",
       "      <td>2042.0</td>\n",
       "      <td>6843672.0</td>\n",
       "      <td>NaN</td>\n",
       "    </tr>\n",
       "    <tr>\n",
       "      <th>MARTIN AMANDA K</th>\n",
       "      <td>349487.0</td>\n",
       "      <td>1522.0</td>\n",
       "      <td>85430.0</td>\n",
       "      <td>8407016.0</td>\n",
       "      <td>NaN</td>\n",
       "      <td>NaN</td>\n",
       "      <td>a..martin@enron.com</td>\n",
       "      <td>NaN</td>\n",
       "      <td>NaN</td>\n",
       "      <td>2070306.0</td>\n",
       "      <td>...</td>\n",
       "      <td>8.0</td>\n",
       "      <td>2070306.0</td>\n",
       "      <td>230.0</td>\n",
       "      <td>2818454.0</td>\n",
       "      <td>0.0</td>\n",
       "      <td>False</td>\n",
       "      <td>5145434.0</td>\n",
       "      <td>477.0</td>\n",
       "      <td>NaN</td>\n",
       "      <td>NaN</td>\n",
       "    </tr>\n",
       "    <tr>\n",
       "      <th>BAXTER JOHN C</th>\n",
       "      <td>267102.0</td>\n",
       "      <td>NaN</td>\n",
       "      <td>1295738.0</td>\n",
       "      <td>5634343.0</td>\n",
       "      <td>NaN</td>\n",
       "      <td>1200000.0</td>\n",
       "      <td>NaN</td>\n",
       "      <td>NaN</td>\n",
       "      <td>-1386055.0</td>\n",
       "      <td>10623258.0</td>\n",
       "      <td>...</td>\n",
       "      <td>NaN</td>\n",
       "      <td>6680544.0</td>\n",
       "      <td>NaN</td>\n",
       "      <td>2660303.0</td>\n",
       "      <td>NaN</td>\n",
       "      <td>False</td>\n",
       "      <td>1586055.0</td>\n",
       "      <td>NaN</td>\n",
       "      <td>3942714.0</td>\n",
       "      <td>NaN</td>\n",
       "    </tr>\n",
       "    <tr>\n",
       "      <th>BELDEN TIMOTHY N</th>\n",
       "      <td>213999.0</td>\n",
       "      <td>7991.0</td>\n",
       "      <td>2144013.0</td>\n",
       "      <td>5501630.0</td>\n",
       "      <td>NaN</td>\n",
       "      <td>5249999.0</td>\n",
       "      <td>tim.belden@enron.com</td>\n",
       "      <td>NaN</td>\n",
       "      <td>-2334434.0</td>\n",
       "      <td>1110705.0</td>\n",
       "      <td>...</td>\n",
       "      <td>228.0</td>\n",
       "      <td>953136.0</td>\n",
       "      <td>484.0</td>\n",
       "      <td>210698.0</td>\n",
       "      <td>108.0</td>\n",
       "      <td>True</td>\n",
       "      <td>NaN</td>\n",
       "      <td>5521.0</td>\n",
       "      <td>157569.0</td>\n",
       "      <td>NaN</td>\n",
       "    </tr>\n",
       "    <tr>\n",
       "      <th>DELAINEY DAVID W</th>\n",
       "      <td>365163.0</td>\n",
       "      <td>3093.0</td>\n",
       "      <td>NaN</td>\n",
       "      <td>4747979.0</td>\n",
       "      <td>NaN</td>\n",
       "      <td>3000000.0</td>\n",
       "      <td>david.delainey@enron.com</td>\n",
       "      <td>NaN</td>\n",
       "      <td>NaN</td>\n",
       "      <td>3614261.0</td>\n",
       "      <td>...</td>\n",
       "      <td>66.0</td>\n",
       "      <td>2291113.0</td>\n",
       "      <td>3069.0</td>\n",
       "      <td>1661.0</td>\n",
       "      <td>609.0</td>\n",
       "      <td>True</td>\n",
       "      <td>1294981.0</td>\n",
       "      <td>2097.0</td>\n",
       "      <td>1323148.0</td>\n",
       "      <td>NaN</td>\n",
       "    </tr>\n",
       "  </tbody>\n",
       "</table>\n",
       "<p>10 rows × 21 columns</p>\n",
       "</div>"
      ],
      "text/plain": [
       "                        salary  to_messages  deferral_payments  \\\n",
       "TOTAL               26704229.0          NaN         32083396.0   \n",
       "LAY KENNETH L        1072321.0       4273.0           202911.0   \n",
       "FREVERT MARK A       1060932.0       3275.0          6426990.0   \n",
       "BHATNAGAR SANJAY           NaN        523.0                NaN   \n",
       "LAVORATO JOHN J       339288.0       7259.0                NaN   \n",
       "SKILLING JEFFREY K   1111258.0       3627.0                NaN   \n",
       "MARTIN AMANDA K       349487.0       1522.0            85430.0   \n",
       "BAXTER JOHN C         267102.0          NaN          1295738.0   \n",
       "BELDEN TIMOTHY N      213999.0       7991.0          2144013.0   \n",
       "DELAINEY DAVID W      365163.0       3093.0                NaN   \n",
       "\n",
       "                    total_payments  loan_advances       bonus  \\\n",
       "TOTAL                  309886585.0     83925000.0  97343619.0   \n",
       "LAY KENNETH L          103559793.0     81525000.0   7000000.0   \n",
       "FREVERT MARK A          17252530.0      2000000.0   2000000.0   \n",
       "BHATNAGAR SANJAY        15456290.0            NaN         NaN   \n",
       "LAVORATO JOHN J         10425757.0            NaN   8000000.0   \n",
       "SKILLING JEFFREY K       8682716.0            NaN   5600000.0   \n",
       "MARTIN AMANDA K          8407016.0            NaN         NaN   \n",
       "BAXTER JOHN C            5634343.0            NaN   1200000.0   \n",
       "BELDEN TIMOTHY N         5501630.0            NaN   5249999.0   \n",
       "DELAINEY DAVID W         4747979.0            NaN   3000000.0   \n",
       "\n",
       "                                 email_address  restricted_stock_deferred  \\\n",
       "TOTAL                                      NaN                 -7576788.0   \n",
       "LAY KENNETH L            kenneth.lay@enron.com                        NaN   \n",
       "FREVERT MARK A          mark.frevert@enron.com                        NaN   \n",
       "BHATNAGAR SANJAY    sanjay.bhatnagar@enron.com                 15456290.0   \n",
       "LAVORATO JOHN J        john.lavorato@enron.com                        NaN   \n",
       "SKILLING JEFFREY K     jeff.skilling@enron.com                        NaN   \n",
       "MARTIN AMANDA K            a..martin@enron.com                        NaN   \n",
       "BAXTER JOHN C                              NaN                        NaN   \n",
       "BELDEN TIMOTHY N          tim.belden@enron.com                        NaN   \n",
       "DELAINEY DAVID W      david.delainey@enron.com                        NaN   \n",
       "\n",
       "                    deferred_income  total_stock_value      ...        \\\n",
       "TOTAL                   -27992891.0        434509511.0      ...         \n",
       "LAY KENNETH L             -300000.0         49110078.0      ...         \n",
       "FREVERT MARK A           -3367011.0         14622185.0      ...         \n",
       "BHATNAGAR SANJAY                NaN                NaN      ...         \n",
       "LAVORATO JOHN J                 NaN          5167144.0      ...         \n",
       "SKILLING JEFFREY K              NaN         26093672.0      ...         \n",
       "MARTIN AMANDA K                 NaN          2070306.0      ...         \n",
       "BAXTER JOHN C            -1386055.0         10623258.0      ...         \n",
       "BELDEN TIMOTHY N         -2334434.0          1110705.0      ...         \n",
       "DELAINEY DAVID W                NaN          3614261.0      ...         \n",
       "\n",
       "                    from_poi_to_this_person  exercised_stock_options  \\\n",
       "TOTAL                                   NaN              311764000.0   \n",
       "LAY KENNETH L                         123.0               34348384.0   \n",
       "FREVERT MARK A                        242.0               10433518.0   \n",
       "BHATNAGAR SANJAY                        0.0                2604490.0   \n",
       "LAVORATO JOHN J                       528.0                4158995.0   \n",
       "SKILLING JEFFREY K                     88.0               19250000.0   \n",
       "MARTIN AMANDA K                         8.0                2070306.0   \n",
       "BAXTER JOHN C                           NaN                6680544.0   \n",
       "BELDEN TIMOTHY N                      228.0                 953136.0   \n",
       "DELAINEY DAVID W                       66.0                2291113.0   \n",
       "\n",
       "                    from_messages       other  from_this_person_to_poi    poi  \\\n",
       "TOTAL                         NaN  42667589.0                      NaN  False   \n",
       "LAY KENNETH L                36.0  10359729.0                     16.0   True   \n",
       "FREVERT MARK A               21.0   7427621.0                      6.0  False   \n",
       "BHATNAGAR SANJAY             29.0    137864.0                      1.0  False   \n",
       "LAVORATO JOHN J            2585.0      1552.0                    411.0  False   \n",
       "SKILLING JEFFREY K          108.0     22122.0                     30.0   True   \n",
       "MARTIN AMANDA K             230.0   2818454.0                      0.0  False   \n",
       "BAXTER JOHN C                 NaN   2660303.0                      NaN  False   \n",
       "BELDEN TIMOTHY N            484.0    210698.0                    108.0   True   \n",
       "DELAINEY DAVID W           3069.0      1661.0                    609.0   True   \n",
       "\n",
       "                    long_term_incentive  shared_receipt_with_poi  \\\n",
       "TOTAL                        48521928.0                      NaN   \n",
       "LAY KENNETH L                 3600000.0                   2411.0   \n",
       "FREVERT MARK A                1617011.0                   2979.0   \n",
       "BHATNAGAR SANJAY                    NaN                    463.0   \n",
       "LAVORATO JOHN J               2035380.0                   3962.0   \n",
       "SKILLING JEFFREY K            1920000.0                   2042.0   \n",
       "MARTIN AMANDA K               5145434.0                    477.0   \n",
       "BAXTER JOHN C                 1586055.0                      NaN   \n",
       "BELDEN TIMOTHY N                    NaN                   5521.0   \n",
       "DELAINEY DAVID W              1294981.0                   2097.0   \n",
       "\n",
       "                    restricted_stock  director_fees  \n",
       "TOTAL                    130322299.0      1398517.0  \n",
       "LAY KENNETH L             14761694.0            NaN  \n",
       "FREVERT MARK A             4188667.0            NaN  \n",
       "BHATNAGAR SANJAY          -2604490.0       137864.0  \n",
       "LAVORATO JOHN J            1008149.0            NaN  \n",
       "SKILLING JEFFREY K         6843672.0            NaN  \n",
       "MARTIN AMANDA K                  NaN            NaN  \n",
       "BAXTER JOHN C              3942714.0            NaN  \n",
       "BELDEN TIMOTHY N            157569.0            NaN  \n",
       "DELAINEY DAVID W           1323148.0            NaN  \n",
       "\n",
       "[10 rows x 21 columns]"
      ]
     },
     "execution_count": 106,
     "metadata": {},
     "output_type": "execute_result"
    }
   ],
   "source": [
    "df.sort_values(by='total_payments', ascending=False).head(10)"
   ]
  },
  {
   "cell_type": "markdown",
   "metadata": {},
   "source": [
    "Descobrimos mais um problema. **TOTAL** não é um funcionário, e sim um registro que é um somatório de todos os pagamentos feitos a funcionários. Deve ser excluído."
   ]
  },
  {
   "cell_type": "code",
   "execution_count": 107,
   "metadata": {},
   "outputs": [],
   "source": [
    "df.drop('TOTAL', inplace=True)"
   ]
  },
  {
   "cell_type": "markdown",
   "metadata": {},
   "source": [
    ">Como este é um caso de fraudes, então uma forma de selecionar os atributos é selecionando aqueles que possium mais outliers. Quais as variáveis que mais possuem outliers?"
   ]
  },
  {
   "cell_type": "markdown",
   "metadata": {},
   "source": [
    "Obs.: Método utilizado foi o IQR(interquartile range), que pode ser encontrado no [link](http://colingorrie.github.io/outlier-detection.html)"
   ]
  },
  {
   "cell_type": "code",
   "execution_count": 108,
   "metadata": {},
   "outputs": [
    {
     "data": {
      "text/plain": [
       "total_stock_value            21\n",
       "poi                          18\n",
       "from_messages                17\n",
       "restricted_stock             14\n",
       "from_this_person_to_poi      13\n",
       "other                        11\n",
       "exercised_stock_options      11\n",
       "from_poi_to_this_person      11\n",
       "total_payments               10\n",
       "bonus                        10\n",
       "salary                        9\n",
       "to_messages                   7\n",
       "long_term_incentive           7\n",
       "deferral_payments             6\n",
       "deferred_income               5\n",
       "director_fees                 4\n",
       "expenses                      3\n",
       "restricted_stock_deferred     2\n",
       "shared_receipt_with_poi       2\n",
       "loan_advances                 0\n",
       "dtype: int64"
      ]
     },
     "execution_count": 108,
     "metadata": {},
     "output_type": "execute_result"
    }
   ],
   "source": [
    "columns = df.columns.values\n",
    "columns=np.delete(columns,6) #Removi o atributo email_address pois estava dando problema no cálculo\n",
    "\n",
    "Q1 = df[columns].quantile(0.25)\n",
    "Q3 = df[columns].quantile(0.75)\n",
    "IQR = Q3 - Q1\n",
    "n_outliers = ((df[columns] < (Q1 - 1.5 * IQR)) | (df[columns] > (Q3 + 1.5 * IQR))).sum()\n",
    "n_outliers.sort_values(ascending=False)"
   ]
  },
  {
   "cell_type": "markdown",
   "metadata": {},
   "source": [
    " Baseado no resultado, Decidi usar os 10 atributos que mais possuem outliers, com exceção do atributo **poi**"
   ]
  },
  {
   "cell_type": "code",
   "execution_count": 109,
   "metadata": {},
   "outputs": [],
   "source": [
    "feature_list = ['poi', 'total_stock_value', 'from_messages', 'restricted_stock', 'from_this_person_to_poi', 'other', 'exercised_stock_options', 'from_poi_to_this_person', 'total_payments', 'bonus', 'salary']\n"
   ]
  },
  {
   "cell_type": "markdown",
   "metadata": {},
   "source": [
    "Obs.: Nas próximas sessões iremos usar o algoritmo de seleção de features e comparar com nossa escolha inicial."
   ]
  },
  {
   "cell_type": "markdown",
   "metadata": {},
   "source": [
    "# 4. Remoção de outliers"
   ]
  },
  {
   "cell_type": "markdown",
   "metadata": {},
   "source": [
    ">Na sessão anterior, acabamos removendos os outliers necessários **('TOTAL', 'THE TRAVEL AGENCY IN THE PARK', 'LOCKHART EUGENE E')**. Fora isso, como o caso é de fraude, o resto dos outliers não devem ser removidos"
   ]
  },
  {
   "cell_type": "markdown",
   "metadata": {},
   "source": [
    "# 5. Testando os Classificadores"
   ]
  },
  {
   "cell_type": "markdown",
   "metadata": {},
   "source": [
    "Escolhi 3 classificadores para realizar esse teste. **Naive Bayes**, **Random Forest**, **Decicion Tree** e **K-means**. Inicialmente vamos testar o desempenho de cada um deles com as features escolhidas no final do item 3 desta análise. Após isso, vamos reavaliar as escolhas das features e fazer um tunning para ver o que consiguimos melhorar no desempenho destes algoritmos. "
   ]
  },
  {
   "cell_type": "markdown",
   "metadata": {},
   "source": [
    "## 5.1. Pré-processamentos dos dados"
   ]
  },
  {
   "cell_type": "code",
   "execution_count": 110,
   "metadata": {},
   "outputs": [],
   "source": [
    "from feature_format import featureFormat, targetFeatureSplit\n",
    "from tester import dump_classifier_and_data, main\n",
    "from sklearn.model_selection import train_test_split"
   ]
  },
  {
   "cell_type": "markdown",
   "metadata": {},
   "source": [
    ">Formatando os dados no formato que os classificadores utilizam "
   ]
  },
  {
   "cell_type": "code",
   "execution_count": 111,
   "metadata": {},
   "outputs": [],
   "source": [
    "df.fillna('NaN', inplace=True)\n",
    "my_dataset = df.to_dict('index')\n",
    "data = featureFormat(my_dataset, feature_list, sort_keys = True)\n",
    "labels, features = targetFeatureSplit(data)"
   ]
  },
  {
   "cell_type": "markdown",
   "metadata": {},
   "source": [
    ">Separando o conjunto de dados para treinamento e teste"
   ]
  },
  {
   "cell_type": "code",
   "execution_count": 112,
   "metadata": {},
   "outputs": [],
   "source": [
    "features_train, features_test, labels_train, labels_test = train_test_split(features, labels, test_size=0.3, random_state=42)"
   ]
  },
  {
   "cell_type": "markdown",
   "metadata": {},
   "source": [
    "## 5.2. Classificadores"
   ]
  },
  {
   "cell_type": "markdown",
   "metadata": {},
   "source": [
    "Para testar os classificadores vamos usar s funções dump_classifier_and_data, main do arquivo tester, que foi disponibilizado pela Udacity"
   ]
  },
  {
   "cell_type": "markdown",
   "metadata": {},
   "source": [
    "### 5.2.1. Naive Bayes"
   ]
  },
  {
   "cell_type": "markdown",
   "metadata": {},
   "source": [
    ">Importando a biblioteca. Criando o classificador e testando."
   ]
  },
  {
   "cell_type": "code",
   "execution_count": 113,
   "metadata": {},
   "outputs": [
    {
     "name": "stdout",
     "output_type": "stream",
     "text": [
      "GaussianNB(priors=None)\n",
      "\tAccuracy: 0.84807\tPrecision: 0.38668\tRecall: 0.23800\tF1: 0.29465\tF2: 0.25783\n",
      "\tTotal predictions: 15000\tTrue positives:  476\tFalse positives:  755\tFalse negatives: 1524\tTrue negatives: 12245\n",
      "\n"
     ]
    }
   ],
   "source": [
    "from sklearn.naive_bayes import GaussianNB\n",
    "clf = GaussianNB()\n",
    "dump_classifier_and_data(clf, my_dataset, feature_list)\n",
    "main()"
   ]
  },
  {
   "cell_type": "markdown",
   "metadata": {},
   "source": [
    "### 5.2.2. Random Forest"
   ]
  },
  {
   "cell_type": "markdown",
   "metadata": {},
   "source": [
    ">Importando a biblioteca. Criando o classificador e testando."
   ]
  },
  {
   "cell_type": "code",
   "execution_count": 114,
   "metadata": {},
   "outputs": [
    {
     "name": "stdout",
     "output_type": "stream",
     "text": [
      "RandomForestClassifier(bootstrap=True, class_weight=None, criterion='gini',\n",
      "            max_depth=None, max_features='auto', max_leaf_nodes=None,\n",
      "            min_impurity_decrease=0.0, min_impurity_split=None,\n",
      "            min_samples_leaf=1, min_samples_split=2,\n",
      "            min_weight_fraction_leaf=0.0, n_estimators=10, n_jobs=1,\n",
      "            oob_score=False, random_state=None, verbose=0,\n",
      "            warm_start=False)\n",
      "\tAccuracy: 0.85493\tPrecision: 0.37209\tRecall: 0.12800\tF1: 0.19048\tF2: 0.14733\n",
      "\tTotal predictions: 15000\tTrue positives:  256\tFalse positives:  432\tFalse negatives: 1744\tTrue negatives: 12568\n",
      "\n"
     ]
    }
   ],
   "source": [
    "from sklearn.ensemble import RandomForestClassifier\n",
    "clf = RandomForestClassifier()\n",
    "dump_classifier_and_data(clf, my_dataset, feature_list)\n",
    "main()"
   ]
  },
  {
   "cell_type": "markdown",
   "metadata": {},
   "source": [
    "### 5.2.3. Decision Tree"
   ]
  },
  {
   "cell_type": "markdown",
   "metadata": {},
   "source": [
    ">Importando a biblioteca. Criando o classificador e testando."
   ]
  },
  {
   "cell_type": "code",
   "execution_count": 115,
   "metadata": {},
   "outputs": [
    {
     "name": "stdout",
     "output_type": "stream",
     "text": [
      "DecisionTreeClassifier(class_weight=None, criterion='gini', max_depth=None,\n",
      "            max_features=None, max_leaf_nodes=None,\n",
      "            min_impurity_decrease=0.0, min_impurity_split=None,\n",
      "            min_samples_leaf=1, min_samples_split=2,\n",
      "            min_weight_fraction_leaf=0.0, presort=False, random_state=None,\n",
      "            splitter='best')\n",
      "\tAccuracy: 0.79200\tPrecision: 0.22921\tRecall: 0.23700\tF1: 0.23304\tF2: 0.23540\n",
      "\tTotal predictions: 15000\tTrue positives:  474\tFalse positives: 1594\tFalse negatives: 1526\tTrue negatives: 11406\n",
      "\n"
     ]
    }
   ],
   "source": [
    "from sklearn import tree\n",
    "clf = tree.DecisionTreeClassifier()\n",
    "dump_classifier_and_data(clf, my_dataset, feature_list)\n",
    "main()"
   ]
  },
  {
   "cell_type": "markdown",
   "metadata": {},
   "source": [
    "### 5.2.4. K-means"
   ]
  },
  {
   "cell_type": "markdown",
   "metadata": {},
   "source": [
    ">Importando a biblioteca. Criando o classificador e testando."
   ]
  },
  {
   "cell_type": "code",
   "execution_count": 116,
   "metadata": {},
   "outputs": [
    {
     "name": "stdout",
     "output_type": "stream",
     "text": [
      "KMeans(algorithm='auto', copy_x=True, init='k-means++', max_iter=300,\n",
      "    n_clusters=2, n_init=10, n_jobs=1, precompute_distances='auto',\n",
      "    random_state=0, tol=0.0001, verbose=0)\n",
      "\tAccuracy: 0.85533\tPrecision: 0.31360\tRecall: 0.07150\tF1: 0.11645\tF2: 0.08456\n",
      "\tTotal predictions: 15000\tTrue positives:  143\tFalse positives:  313\tFalse negatives: 1857\tTrue negatives: 12687\n",
      "\n"
     ]
    }
   ],
   "source": [
    "from sklearn.cluster import KMeans\n",
    "clf = KMeans(n_clusters=2, random_state=0).fit(features_train)\n",
    "dump_classifier_and_data(clf, my_dataset, feature_list)\n",
    "main()"
   ]
  },
  {
   "cell_type": "markdown",
   "metadata": {},
   "source": [
    "### 5.2.5. Resultados "
   ]
  },
  {
   "cell_type": "markdown",
   "metadata": {},
   "source": [
    ">**Naive Bayes:** Accuracy: 0.84807\tPrecision: 0.38668\tRecall: 0.23800\tF1: 0.29465\tF2: 0.25783\n",
    "\n",
    ">**Random Forest:** Accuracy: 0.85467\tPrecision: 0.36527\tRecall: 0.12200\tF1: 0.18291\tF2: 0.14075\n",
    "\n",
    ">**Decision Tree:** Accuracy: 0.79400\tPrecision: 0.23492\tRecall: 0.24150\tF1: 0.23817\tF2: 0.24016\n",
    "\n",
    ">**K-means: Accuracy:** Accuracy: 0.85533\tPrecision: 0.31360\tRecall: 0.07150\tF1: 0.11645\tF2: 0.084568"
   ]
  },
  {
   "cell_type": "markdown",
   "metadata": {},
   "source": [
    "Dentre os classificadores testados, o melhor foi o **Naive Bayes**"
   ]
  },
  {
   "cell_type": "markdown",
   "metadata": {},
   "source": [
    "## 5.3. Reseleção dos atributos e tunning dos classificadores  "
   ]
  },
  {
   "cell_type": "markdown",
   "metadata": {},
   "source": [
    "Agora vamos realizar os passos abaixo para cada classificador para ver o que conseguimos melhorar"
   ]
  },
  {
   "cell_type": "markdown",
   "metadata": {},
   "source": [
    ">a) Normalização dos dados, utilizando StandardScaler\n",
    "\n",
    ">b) Redução de dimensionalidade dos dados, utilizando PCA;\n",
    "\n",
    ">c) Seleção das Features mais importantes, utilizando SelectKBest;\n",
    "\n",
    ">d) Otimização, utilizando GridSearchCV; \n",
    "\n",
    ">e) Validação cruzada, utilizando StratifiedShuffleSplit."
   ]
  },
  {
   "cell_type": "code",
   "execution_count": 117,
   "metadata": {},
   "outputs": [],
   "source": [
    "from sklearn.pipeline import Pipeline\n",
    "from sklearn import preprocessing\n",
    "from sklearn.decomposition import PCA\n",
    "from sklearn.model_selection import GridSearchCV, StratifiedShuffleSplit\n",
    "from sklearn.feature_selection import SelectKBest"
   ]
  },
  {
   "cell_type": "markdown",
   "metadata": {},
   "source": [
    ">Carregando lista com todas os atributos"
   ]
  },
  {
   "cell_type": "code",
   "execution_count": 118,
   "metadata": {},
   "outputs": [],
   "source": [
    "features_list = ['poi',\n",
    "                 'exercised_stock_options',\n",
    "                 'total_stock_value',\n",
    "                 'bonus',\n",
    "                 'salary',\n",
    "                 'deferred_income',\n",
    "                 'long_term_incentive',\n",
    "                 'restricted_stock',\n",
    "                 'total_payments',\n",
    "                 'shared_receipt_with_poi',\n",
    "                 'loan_advances',\n",
    "                 'expenses',\n",
    "                 'from_poi_to_this_person',\n",
    "                 'other',\n",
    "                 'from_this_person_to_poi',\n",
    "                 'director_fees',\n",
    "                 'to_messages',\n",
    "                 'deferral_payments',\n",
    "                 'from_messages',\n",
    "                 'restricted_stock_deferred'\n",
    "                ]"
   ]
  },
  {
   "cell_type": "code",
   "execution_count": 119,
   "metadata": {},
   "outputs": [],
   "source": [
    "my_dataset = df.to_dict('index')\n",
    "data = featureFormat(my_dataset, feature_list, sort_keys = True)\n",
    "labels, features = targetFeatureSplit(data)"
   ]
  },
  {
   "cell_type": "code",
   "execution_count": 120,
   "metadata": {},
   "outputs": [],
   "source": [
    "features_train, features_test, labels_train, labels_test = \\\n",
    "    train_test_split(features, labels, test_size=0.3, random_state=42)"
   ]
  },
  {
   "cell_type": "markdown",
   "metadata": {},
   "source": [
    "### 5.3.1. Naive Bayes "
   ]
  },
  {
   "cell_type": "markdown",
   "metadata": {},
   "source": [
    ">Pipeline de execução para o classificador"
   ]
  },
  {
   "cell_type": "code",
   "execution_count": 121,
   "metadata": {},
   "outputs": [],
   "source": [
    "#No caso de Naive Bayes, não foi utilizado o GridSearchCV, para otimização dos kernels params. \n",
    "pipe = Pipeline([\n",
    "        ('scaler', preprocessing.StandardScaler()),\n",
    "        ('reducer', PCA(random_state=42)),\n",
    "        ('selector', SelectKBest()),\n",
    "        ('classifier', GaussianNB())\n",
    "    ])"
   ]
  },
  {
   "cell_type": "code",
   "execution_count": 122,
   "metadata": {},
   "outputs": [
    {
     "name": "stdout",
     "output_type": "stream",
     "text": [
      "Pipeline(memory=None,\n",
      "     steps=[('scaler', StandardScaler(copy=True, with_mean=True, with_std=True)), ('reducer', PCA(copy=True, iterated_power='auto', n_components=None, random_state=42,\n",
      "  svd_solver='auto', tol=0.0, whiten=False)), ('selector', SelectKBest(k=10, score_func=<function f_classif at 0x1a1f514ea0>)), ('classifier', GaussianNB(priors=None))])\n",
      "\tAccuracy: 0.80987\tPrecision: 0.30351\tRecall: 0.32900\tF1: 0.31574\tF2: 0.32356\n",
      "\tTotal predictions: 15000\tTrue positives:  658\tFalse positives: 1510\tFalse negatives: 1342\tTrue negatives: 11490\n",
      "\n"
     ]
    }
   ],
   "source": [
    "dump_classifier_and_data(pipe, my_dataset, features_list)\n",
    "main()"
   ]
  },
  {
   "cell_type": "markdown",
   "metadata": {},
   "source": [
    ">**Naive Bayes(Antes):** Accuracy: 0.84807\tPrecision: 0.38668\tRecall: 0.23800\tF1: 0.29465\tF2: 0.25783\n",
    "\n",
    ">**Naive Bayes(Depois):** Accuracy: 0.80987\tPrecision: 0.30351\tRecall: 0.32900\tF1: 0.31574\tF2: 0.32356"
   ]
  },
  {
   "cell_type": "markdown",
   "metadata": {},
   "source": [
    "### 5.3.2. Random Forest"
   ]
  },
  {
   "cell_type": "code",
   "execution_count": 123,
   "metadata": {},
   "outputs": [],
   "source": [
    "pipe = Pipeline([\n",
    "        ('scaler', preprocessing.StandardScaler()),\n",
    "        ('reducer', PCA(random_state=42)),\n",
    "        ('selector', SelectKBest()),\n",
    "        ('classifier', RandomForestClassifier())\n",
    "    ])"
   ]
  },
  {
   "cell_type": "code",
   "execution_count": 124,
   "metadata": {},
   "outputs": [],
   "source": [
    "param_grid = { \n",
    "    'classifier__n_estimators': [200, 700],\n",
    "    'classifier__max_features': ['auto', 'sqrt', 'log2']\n",
    "}"
   ]
  },
  {
   "cell_type": "code",
   "execution_count": 125,
   "metadata": {},
   "outputs": [],
   "source": [
    "sss = StratifiedShuffleSplit(n_splits=10, test_size=0.2, random_state=42)"
   ]
  },
  {
   "cell_type": "code",
   "execution_count": 126,
   "metadata": {},
   "outputs": [],
   "source": [
    "grid_search = GridSearchCV(pipe, param_grid, scoring='f1', cv=sss)"
   ]
  },
  {
   "cell_type": "code",
   "execution_count": 127,
   "metadata": {},
   "outputs": [],
   "source": [
    "grid = grid_search.fit(features_train,labels_train)"
   ]
  },
  {
   "cell_type": "code",
   "execution_count": 128,
   "metadata": {},
   "outputs": [
    {
     "name": "stdout",
     "output_type": "stream",
     "text": [
      "Pipeline(memory=None,\n",
      "     steps=[('scaler', StandardScaler(copy=True, with_mean=True, with_std=True)), ('reducer', PCA(copy=True, iterated_power='auto', n_components=None, random_state=42,\n",
      "  svd_solver='auto', tol=0.0, whiten=False)), ('selector', SelectKBest(k=10, score_func=<function f_classif at 0x1a1f514ea0>)), ('classif...n_jobs=1,\n",
      "            oob_score=False, random_state=None, verbose=0,\n",
      "            warm_start=False))])\n",
      "\tAccuracy: 0.85540\tPrecision: 0.40724\tRecall: 0.18550\tF1: 0.25490\tF2: 0.20817\n",
      "\tTotal predictions: 15000\tTrue positives:  371\tFalse positives:  540\tFalse negatives: 1629\tTrue negatives: 12460\n",
      "\n"
     ]
    }
   ],
   "source": [
    "dump_classifier_and_data(grid_search.best_estimator_, my_dataset, features_list)\n",
    "main()"
   ]
  },
  {
   "cell_type": "markdown",
   "metadata": {},
   "source": [
    ">**Random Forest(Antes):** Accuracy: 0.85467\tPrecision: 0.36527\tRecall: 0.12200\tF1: 0.18291\tF2: 0.14075\n",
    "\n",
    ">**Random Forest(Depois):** Accuracy: 0.85693\tPrecision: 0.41925\tRecall: 0.18950\tF1: 0.26102\tF2: 0.21283"
   ]
  },
  {
   "cell_type": "markdown",
   "metadata": {},
   "source": [
    "### 5.3.3. Decision Tree"
   ]
  },
  {
   "cell_type": "code",
   "execution_count": 129,
   "metadata": {},
   "outputs": [],
   "source": [
    "pipe = Pipeline([\n",
    "        ('scaler', preprocessing.StandardScaler()),\n",
    "        ('reducer', PCA(random_state=42)),\n",
    "        ('selector', SelectKBest()),\n",
    "        ('classifier', tree.DecisionTreeClassifier())\n",
    "    ])"
   ]
  },
  {
   "cell_type": "code",
   "execution_count": 130,
   "metadata": {},
   "outputs": [],
   "source": [
    "param_grid = {\n",
    "    'classifier__criterion': ['gini','entropy'],\n",
    "    'classifier__splitter': ['best', 'random'],\n",
    "    'classifier__min_samples_split': [2,4,8,16],\n",
    "    'classifier__class_weight': ['balanced', None],\n",
    "    'classifier__min_samples_leaf': [1,2,4,8,16],\n",
    "    'classifier__max_depth': [None,1,2,4,8,16],\n",
    "}"
   ]
  },
  {
   "cell_type": "code",
   "execution_count": 131,
   "metadata": {},
   "outputs": [],
   "source": [
    "sss = StratifiedShuffleSplit(n_splits=10, test_size=0.2, random_state=42)"
   ]
  },
  {
   "cell_type": "code",
   "execution_count": 132,
   "metadata": {},
   "outputs": [],
   "source": [
    "grid_search = GridSearchCV(pipe, param_grid, scoring='f1', cv=sss)"
   ]
  },
  {
   "cell_type": "code",
   "execution_count": 133,
   "metadata": {},
   "outputs": [],
   "source": [
    "grid = grid_search.fit(features_train,labels_train)"
   ]
  },
  {
   "cell_type": "code",
   "execution_count": 134,
   "metadata": {},
   "outputs": [
    {
     "name": "stdout",
     "output_type": "stream",
     "text": [
      "Pipeline(memory=None,\n",
      "     steps=[('scaler', StandardScaler(copy=True, with_mean=True, with_std=True)), ('reducer', PCA(copy=True, iterated_power='auto', n_components=None, random_state=42,\n",
      "  svd_solver='auto', tol=0.0, whiten=False)), ('selector', SelectKBest(k=10, score_func=<function f_classif at 0x1a1f514ea0>)), ('classif...      min_weight_fraction_leaf=0.0, presort=False, random_state=None,\n",
      "            splitter='best'))])\n",
      "\tAccuracy: 0.68027\tPrecision: 0.28670\tRecall: 0.93950\tF1: 0.43933\tF2: 0.64553\n",
      "\tTotal predictions: 15000\tTrue positives: 1879\tFalse positives: 4675\tFalse negatives:  121\tTrue negatives: 8325\n",
      "\n"
     ]
    }
   ],
   "source": [
    "dump_classifier_and_data(grid_search.best_estimator_, my_dataset, features_list)\n",
    "main()"
   ]
  },
  {
   "cell_type": "markdown",
   "metadata": {},
   "source": [
    ">**Decision Tree(Antes):** Accuracy: 0.79400\tPrecision: 0.23492\tRecall: 0.24150\tF1: 0.23817\tF2: 0.24016\n",
    "\n",
    ">**Decision Tree(Depois):** Accuracy: 0.68027\tPrecision: 0.28670\tRecall: 0.93950\tF1: 0.43933\tF2: 0.64553"
   ]
  },
  {
   "cell_type": "markdown",
   "metadata": {},
   "source": [
    "### 5.3.4. K-means"
   ]
  },
  {
   "cell_type": "code",
   "execution_count": 135,
   "metadata": {},
   "outputs": [],
   "source": [
    "pipe = Pipeline([\n",
    "        ('scaler', preprocessing.StandardScaler()),\n",
    "        ('reducer', PCA(random_state=42)),\n",
    "        ('selector', SelectKBest()),\n",
    "        ('classifier', KMeans(n_clusters=2, random_state=0))\n",
    "    ])"
   ]
  },
  {
   "cell_type": "code",
   "execution_count": 136,
   "metadata": {},
   "outputs": [],
   "source": [
    "param_grid = {\n",
    "    'classifier__algorithm': ['auto','full','elkan'],\n",
    "    'classifier__random_state': [42],\n",
    "    'classifier__precompute_distances': ['auto', True, False],\n",
    "    'classifier__max_iter': [10,50,100,200,400,500],\n",
    "    'classifier__n_clusters': [2]\n",
    "}"
   ]
  },
  {
   "cell_type": "code",
   "execution_count": 137,
   "metadata": {},
   "outputs": [],
   "source": [
    "sss = StratifiedShuffleSplit(n_splits=10, test_size=0.2, random_state=42)"
   ]
  },
  {
   "cell_type": "code",
   "execution_count": 138,
   "metadata": {},
   "outputs": [],
   "source": [
    "grid_search = GridSearchCV(pipe, param_grid, scoring='f1',cv=sss)"
   ]
  },
  {
   "cell_type": "code",
   "execution_count": 139,
   "metadata": {},
   "outputs": [],
   "source": [
    "grid = grid_search.fit(features_train,labels_train)"
   ]
  },
  {
   "cell_type": "code",
   "execution_count": 140,
   "metadata": {},
   "outputs": [
    {
     "name": "stdout",
     "output_type": "stream",
     "text": [
      "Pipeline(memory=None,\n",
      "     steps=[('scaler', StandardScaler(copy=True, with_mean=True, with_std=True)), ('reducer', PCA(copy=True, iterated_power='auto', n_components=None, random_state=42,\n",
      "  svd_solver='auto', tol=0.0, whiten=False)), ('selector', SelectKBest(k=10, score_func=<function f_classif at 0x1a1f514ea0>)), ('classifier', KMeans(algorithm='auto', copy_x=True, init='k-means++', max_iter=10,\n",
      "    n_clusters=2, n_init=10, n_jobs=1, precompute_distances='auto',\n",
      "    random_state=42, tol=0.0001, verbose=0))])\n",
      "\tAccuracy: 0.72060\tPrecision: 0.14558\tRecall: 0.22500\tF1: 0.17678\tF2: 0.20287\n",
      "\tTotal predictions: 15000\tTrue positives:  450\tFalse positives: 2641\tFalse negatives: 1550\tTrue negatives: 10359\n",
      "\n"
     ]
    }
   ],
   "source": [
    "dump_classifier_and_data(grid_search.best_estimator_, my_dataset, features_list)\n",
    "main()"
   ]
  },
  {
   "cell_type": "markdown",
   "metadata": {},
   "source": [
    ">**K-means: Accuracy(Antes):** Accuracy: 0.85533\tPrecision: 0.31360\tRecall: 0.07150\tF1: 0.11645\tF2: 0.084568\n",
    "\n",
    ">**K-means: Accuracy(Depois):** Accuracy: 0.72060\tPrecision: 0.14558\tRecall: 0.22500\tF1: 0.17678\tF2: 0.20287"
   ]
  },
  {
   "cell_type": "markdown",
   "metadata": {},
   "source": [
    "### 5.3.5. Resultados Após Otimizações"
   ]
  },
  {
   "cell_type": "markdown",
   "metadata": {},
   "source": [
    ">**Naive Bayes(Depois):** Accuracy: 0.80987\tPrecision: 0.30351\tRecall: 0.32900\tF1: 0.31574\tF2: 0.32356\n",
    "\n",
    ">**Random Forest(Depois):** Accuracy: 0.85693\tPrecision: 0.41925\tRecall: 0.18950\tF1: 0.26102\tF2: 0.21283\n",
    "\n",
    ">**Decision Tree(Depois):** Accuracy: 0.68027\tPrecision: 0.28670\tRecall: 0.93950\tF1: 0.43933\tF2: 0.64553\n",
    "\n",
    ">**K-means: Accuracy(Depois):** Accuracy: 0.72060\tPrecision: 0.14558\tRecall: 0.22500\tF1: 0.17678\tF2: 0.20287"
   ]
  },
  {
   "cell_type": "markdown",
   "metadata": {},
   "source": [
    "# 6. Conclusões"
   ]
  },
  {
   "cell_type": "markdown",
   "metadata": {},
   "source": [
    "Neste caso de identificação de POI(Person of interest), ou seja, as pessoas que cometeram fraudes na emrpesa Eron, mas métricas mais significativas são a **precision** e a **recall**. \n",
    "\n",
    "O classificador que teve o melhor desempenho nos teste foi o **Decision Tree**, pois teve a métrica **F1** com maior valor. Essa métrica é a uma média harmonica entre precision e recall.\n",
    "\n",
    "Os resultados do classificador são interpretados dessa forma:\n",
    "\n",
    "- Recall 93.9%: Quando uma pessoa que é POI é submetida ao classificador, 93.9% das vezes será classificado como POI. em outras palavras, 6.1% de Falsos Negativos (Erro tipo II).\n",
    "- Precision 28.6%: De todas as pessoas que são classificadas como POI, somente 28.6% são verdadeiros. Em outras palavras, temos 71.4% de Falsos positivos (Erro tipo I)"
   ]
  },
  {
   "cell_type": "code",
   "execution_count": null,
   "metadata": {},
   "outputs": [],
   "source": []
  }
 ],
 "metadata": {
  "kernelspec": {
   "display_name": "Python 3",
   "language": "python",
   "name": "python3"
  },
  "language_info": {
   "codemirror_mode": {
    "name": "ipython",
    "version": 3
   },
   "file_extension": ".py",
   "mimetype": "text/x-python",
   "name": "python",
   "nbconvert_exporter": "python",
   "pygments_lexer": "ipython3",
   "version": "3.6.6"
  }
 },
 "nbformat": 4,
 "nbformat_minor": 2
}
